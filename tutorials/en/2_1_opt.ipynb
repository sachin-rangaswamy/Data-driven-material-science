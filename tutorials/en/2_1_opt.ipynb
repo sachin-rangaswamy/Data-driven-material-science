{
  "cells": [
    {
      "cell_type": "markdown",
      "id": "8b186961-995f-4b40-9580-8d816992d1c1",
      "metadata": {
        "id": "8b186961-995f-4b40-9580-8d816992d1c1",
        "tags": []
      },
      "source": [
        "# Notion"
      ]
    },
    {
      "cell_type": "code",
      "source": [],
      "metadata": {
        "id": "M5w6Ge6feV3c"
      },
      "id": "M5w6Ge6feV3c",
      "execution_count": null,
      "outputs": []
    },
    {
      "cell_type": "markdown",
      "id": "7cd4742a-c675-4173-b492-268cec5a936d",
      "metadata": {
        "id": "7cd4742a-c675-4173-b492-268cec5a936d"
      },
      "source": [
        "This notebook is the modified notebook of [AtomisticSimulationTutorial](https://docs.matlantis.com/atomistic-simulation-tutorial/en/) to run on Google Colab. We only provide executable parts with general library."
      ]
    },
    {
      "cell_type": "markdown",
      "id": "bedc795f-d674-4f25-bf6e-294342bb262e",
      "metadata": {
        "id": "bedc795f-d674-4f25-bf6e-294342bb262e"
      },
      "source": [
        "# Opt\n",
        "\n",
        "In this chapter, we will learn about **structural optimization** (also called structural relaxation, structure optimization or structure relaxation), which calculates the local stability coordinates of a system and its energy.\n",
        "\n",
        "There are two types of optimization algorithms: global optimization and local optimization. We focus our attention on local optimization methods for structural optimization in this chapter.\n",
        "\n",
        "<figure>\n",
        "    <img src=\"https://github.com/matlantis-pfcc/atomistic-simulation-tutorial-colab/blob/main/tutorials/assets/ch2/local-global-minimum.en.png?raw=1\" width=\"720px\">\n",
        "    <figcaption>The horizontal axis represents the various conformations of the system, and the vertical axis represents the energy.</figcaption>\n",
        "</figure>\n",
        "\n",
        "The coordinates of a system consisting of N atoms have $3*N$ dimensions of freedom, for example, a system consisting of 100 atoms is an optimization problem in a high-dimensional space of 300 dimensions. <br/>\n",
        "Finding a globally optimal solution is generally a difficult problem.\n",
        "\n",
        "Structural optimization finds the system's stable structure by determining the system's initial coordinates and finding local stable points from there. <br/>\n",
        "Even when the composition of a substance (combination of elements and their proportions, e.g., NaCl) is known, it is not apparent what its structure is.\n",
        "Determining the stable structure is essential because many properties of a substance are determined from its state near its stable structure.\n",
        "\n",
        "The following analytical and measuring instruments may be used to determine the structure experimentally.\n",
        "\n",
        "However, even in that case\n",
        "\n",
        " - Only partial information on the material can be obtained from the spectral information, and information on the 3D structure cannot be directly observed (1~6)\n",
        " - It is necessary to prepare structures such as single crystals or thin films, and it is sometimes difficult to prepare such samples in reality (3, 8)\n",
        " - Lack of resolution for atomic scale observation (7)\n",
        " - Although the shape of the surface can be observed, it is not possible to distinguish the type of atoms and molecules (9)\n",
        "\n",
        "It is not easy to determine how each atom is arranged in the material we are dealing with and to identify the three-dimensional structure of the material.\n",
        "\n",
        "Examples of analytical instruments:\n",
        "\n",
        "| Name | Description |\n",
        "|:---|:---|\n",
        "|1. Infrared spectroscopy |Obtain information on molecular structure by measuring infrared absorption due to molecular vibrations. |\n",
        "|2. Raman spectroscopy |Raman scattering light is used to evaluate materials. |\n",
        "|3. XRD: X-ray Diffraction |Identification and quantification of substances by analyzing diffraction obtained by a beam of incident X-rays to crystal structures. |\n",
        "|4. XPS: X-ray Photoelectron Spectroscopy |X-rays are irradiated to a material, and the photoelectrons e- emitted as a result of ionization of the material are measured for energy analysis. |\n",
        "|5. MS: Mass Spectroscopy |Accurately measures the mass of individual compounds that make up a substance. |\n",
        "|6. NMR: Nuclear Magnetic Resonance | Analyze organic compounds using the phenomenon of nuclear resonance. |\n",
        "|7. SEM: Scanning Electron Microscope | Observation of surfaces with a resolution of 0.4~4nm using electron beams with short wavelengths. |\n",
        "|8. TEM: Transmission Electron Microscope | Observation of microscopic substances by the intensity of the electron beam transmitted through the object. |\n",
        "|9. AFM: Atomic Force Microscope | Microscope to detect the atomic forces acting between the tip and the sample. |\n",
        "\n",
        "Therefore, it is vital to estimate which structure is likely to be in the simulation and verify it in the experiment (or vice versa)."
      ]
    },
    {
      "cell_type": "markdown",
      "id": "08fa3f3f-b404-439e-aeec-914ed207c963",
      "metadata": {
        "id": "08fa3f3f-b404-439e-aeec-914ed207c963",
        "tags": []
      },
      "source": [
        "## Initial setup"
      ]
    },
    {
      "cell_type": "code",
      "execution_count": null,
      "id": "873d9848-772f-45b5-a5b7-3cddd7ef762a",
      "metadata": {
        "colab": {
          "base_uri": "https://localhost:8080/"
        },
        "id": "873d9848-772f-45b5-a5b7-3cddd7ef762a",
        "outputId": "b830cb03-e2f8-4850-a802-b82db2474b56"
      },
      "outputs": [
        {
          "name": "stdout",
          "output_type": "stream",
          "text": [
            "Requirement already satisfied: ase in /usr/local/lib/python3.10/dist-packages (3.23.0)\n",
            "Requirement already satisfied: numpy>=1.18.5 in /usr/local/lib/python3.10/dist-packages (from ase) (1.26.4)\n",
            "Requirement already satisfied: scipy>=1.6.0 in /usr/local/lib/python3.10/dist-packages (from ase) (1.13.1)\n",
            "Requirement already satisfied: matplotlib>=3.3.4 in /usr/local/lib/python3.10/dist-packages (from ase) (3.8.0)\n",
            "Requirement already satisfied: contourpy>=1.0.1 in /usr/local/lib/python3.10/dist-packages (from matplotlib>=3.3.4->ase) (1.3.1)\n",
            "Requirement already satisfied: cycler>=0.10 in /usr/local/lib/python3.10/dist-packages (from matplotlib>=3.3.4->ase) (0.12.1)\n",
            "Requirement already satisfied: fonttools>=4.22.0 in /usr/local/lib/python3.10/dist-packages (from matplotlib>=3.3.4->ase) (4.55.3)\n",
            "Requirement already satisfied: kiwisolver>=1.0.1 in /usr/local/lib/python3.10/dist-packages (from matplotlib>=3.3.4->ase) (1.4.7)\n",
            "Requirement already satisfied: packaging>=20.0 in /usr/local/lib/python3.10/dist-packages (from matplotlib>=3.3.4->ase) (24.2)\n",
            "Requirement already satisfied: pillow>=6.2.0 in /usr/local/lib/python3.10/dist-packages (from matplotlib>=3.3.4->ase) (11.0.0)\n",
            "Requirement already satisfied: pyparsing>=2.3.1 in /usr/local/lib/python3.10/dist-packages (from matplotlib>=3.3.4->ase) (3.2.0)\n",
            "Requirement already satisfied: python-dateutil>=2.7 in /usr/local/lib/python3.10/dist-packages (from matplotlib>=3.3.4->ase) (2.8.2)\n",
            "Requirement already satisfied: six>=1.5 in /usr/local/lib/python3.10/dist-packages (from python-dateutil>=2.7->matplotlib>=3.3.4->ase) (1.17.0)\n"
          ]
        }
      ],
      "source": [
        "!pip install ase==3.23.0"
      ]
    },
    {
      "cell_type": "code",
      "execution_count": null,
      "id": "64d5c37d-6b30-4e77-b3a4-f5be11123046",
      "metadata": {
        "id": "64d5c37d-6b30-4e77-b3a4-f5be11123046",
        "tags": []
      },
      "outputs": [],
      "source": [
        "import os\n",
        "\n",
        "from IPython.display import HTML, Image\n",
        "\n",
        "import matplotlib.pyplot as plt\n",
        "import matplotlib.image as mpimg\n",
        "from matplotlib.animation import FuncAnimation\n",
        "\n",
        "from ase import Atoms\n",
        "from ase.build import make_supercell\n",
        "from ase.io import write\n",
        "from ase.visualize import view\n",
        "\n",
        "os.makedirs(\"output\", exist_ok=True)\n",
        "\n",
        "def view_x3d(atoms, idx=0):\n",
        "    if isinstance(atoms[0], Atoms):\n",
        "        # Assume this is a trajectory or struct list\n",
        "        if (len(atoms) <= idx):\n",
        "                print(f\"The specified index exceeds the length of the trajectory. The length of the trajectory is {len(atoms)}.\")\n",
        "        return view(atoms[idx], viewer=\"x3d\")\n",
        "    else:\n",
        "        return view(atoms, viewer=\"x3d\")\n",
        "\n",
        "\n",
        "def view_ase_atoms(atoms, rotation=\"0x,0y,0z\", figsize=(4, 4), title=\"\", scale=100):\n",
        "    fig, ax = plt.subplots(figsize=figsize)\n",
        "    write(\"output/tmp.png\", atoms, rotation=rotation, scale=scale)\n",
        "    img = mpimg.imread('output/tmp.png')\n",
        "    ax.imshow(img)\n",
        "    ax.set_title(title)\n",
        "    ax.axis('off')\n",
        "    plt.show()\n",
        "    os.remove('output/tmp.png')\n",
        "    return\n",
        "\n",
        "def traj_to_apng(traj, rotation='30x,30y,30z'):\n",
        "    imgs = []\n",
        "    for atom in traj:\n",
        "        supercell = make_supercell(atom, [[1, 0, 0], [0, 1, 0], [0, 0, 1]])\n",
        "        write('output/tmp.png', supercell, rotation=rotation, show_unit_cell=2)\n",
        "        img = mpimg.imread('output/tmp.png')\n",
        "        imgs.append(img)\n",
        "    os.remove('output/tmp.png')\n",
        "\n",
        "    fig, ax = plt.subplots()\n",
        "\n",
        "    def update(frame):\n",
        "        img = imgs[frame]\n",
        "        ax.clear()\n",
        "        ax.imshow(img)\n",
        "        return []\n",
        "\n",
        "    ani = FuncAnimation(fig, update, frames=len(imgs), blit=True)\n",
        "    plt.close()\n",
        "    return HTML(ani.to_jshtml())"
      ]
    },
    {
      "cell_type": "code",
      "execution_count": null,
      "id": "8e42b27c-6977-41a6-b23d-df9d90f387e6",
      "metadata": {
        "colab": {
          "base_uri": "https://localhost:8080/"
        },
        "id": "8e42b27c-6977-41a6-b23d-df9d90f387e6",
        "outputId": "04a1c8ee-3a11-4d44-819f-86890a675de7"
      },
      "outputs": [
        {
          "name": "stdout",
          "output_type": "stream",
          "text": [
            "Hit:1 https://cloud.r-project.org/bin/linux/ubuntu jammy-cran40/ InRelease\n",
            "Hit:2 https://developer.download.nvidia.com/compute/cuda/repos/ubuntu2204/x86_64  InRelease\n",
            "Hit:3 http://archive.ubuntu.com/ubuntu jammy InRelease\n",
            "Hit:4 http://security.ubuntu.com/ubuntu jammy-security InRelease\n",
            "Hit:5 http://archive.ubuntu.com/ubuntu jammy-updates InRelease\n",
            "Hit:6 https://r2u.stat.illinois.edu/ubuntu jammy InRelease\n",
            "Hit:7 http://archive.ubuntu.com/ubuntu jammy-backports InRelease\n",
            "Hit:8 https://ppa.launchpadcontent.net/deadsnakes/ppa/ubuntu jammy InRelease\n",
            "Hit:9 https://ppa.launchpadcontent.net/graphics-drivers/ppa/ubuntu jammy InRelease\n",
            "Hit:10 https://ppa.launchpadcontent.net/ubuntugis/ppa/ubuntu jammy InRelease\n",
            "Reading package lists... Done\n",
            "W: Skipping acquire of configured file 'main/source/Sources' as repository 'https://r2u.stat.illinois.edu/ubuntu jammy InRelease' does not seem to provide it (sources.list entry misspelt?)\n",
            "Reading package lists... Done\n",
            "Building dependency tree... Done\n",
            "Reading state information... Done\n",
            "build-essential is already the newest version (12.9ubuntu3).\n",
            "gfortran is already the newest version (4:11.2.0-1ubuntu1).\n",
            "libopenblas-dev is already the newest version (0.3.20+ds-1).\n",
            "cmake is already the newest version (3.22.1-1ubuntu1.22.04.2).\n",
            "0 upgraded, 0 newly installed, 0 to remove and 50 not upgraded.\n",
            "fatal: destination path 'mopac' already exists and is not an empty directory.\n",
            "/content/mopac\n",
            "mkdir: cannot create directory ‘build’: File exists\n",
            "/content/mopac/build\n",
            "-- Build type is Release\n",
            "-- Shared library and dynamic executables\n",
            "-- Configuring done (1.9s)\n",
            "-- Generating done (0.2s)\n",
            "-- Build files have been written to: /content/mopac/build\n",
            "[  6%] Built target mopac-makpol\n",
            "[ 98%] Built target mopac-core\n",
            "[ 98%] Built target mopac\n",
            "[ 99%] Built target mopac-param\n",
            "[100%] Built target mopac-api-test\n",
            "[ 92%] Built target mopac-core\n",
            "[ 92%] Built target mopac\n",
            "[ 93%] Built target mopac-param\n",
            "[ 99%] Built target mopac-makpol\n",
            "[100%] Built target mopac-api-test\n",
            "\u001b[36mInstall the project...\u001b[0m\n",
            "-- Install configuration: \"Release\"\n",
            "-- Up-to-date: /usr/local/include/mopac.h\n",
            "-- Up-to-date: /usr/local/bin/mopac\n",
            "-- Up-to-date: /usr/local/bin/mopac-param\n",
            "-- Up-to-date: /usr/local/bin/mopac-makpol\n",
            "-- Up-to-date: /usr/local/lib/libmopac.so.2\n",
            "-- Up-to-date: /usr/local/lib/libmopac.so\n"
          ]
        }
      ],
      "source": [
        "# this command takes several minutes\n",
        "\n",
        "## install mopac\n",
        "# 環境変数を設定して非対話モードに\n",
        "!export DEBIAN_FRONTEND=noninteractive\n",
        "\n",
        "# 必要なパッケージのインストール（-yフラグで自動承認）\n",
        "!apt-get update -y\n",
        "!apt-get install -y build-essential gfortran cmake libopenblas-dev\n",
        "\n",
        "# 古いビルドディレクトリがある場合は削除\n",
        "!rm -rf build\n",
        "\n",
        "# GitHubからMOPACをクローン\n",
        "!git clone https://github.com/openmopac/mopac.git\n",
        "\n",
        "# ビルドディレクトリの作成\n",
        "%cd /content/mopac\n",
        "!mkdir build\n",
        "%cd build\n",
        "\n",
        "# CMakeを非対話モードで実行\n",
        "!cmake -DCMAKE_BUILD_TYPE=Release ..\n",
        "\n",
        "# ビルドの実行（-jフラグで並列ビルド）\n",
        "!make -j$(nproc)\n",
        "\n",
        "# インストール\n",
        "!make install"
      ]
    },
    {
      "cell_type": "code",
      "execution_count": null,
      "id": "19d232ca-a9a8-49c8-913b-a1eed01dcee5",
      "metadata": {
        "colab": {
          "base_uri": "https://localhost:8080/"
        },
        "id": "19d232ca-a9a8-49c8-913b-a1eed01dcee5",
        "outputId": "e47478c0-f421-443b-cd38-75d70f51f264"
      },
      "outputs": [
        {
          "name": "stdout",
          "output_type": "stream",
          "text": [
            "/content\n"
          ]
        }
      ],
      "source": [
        "%cd /content"
      ]
    },
    {
      "cell_type": "markdown",
      "id": "d83bf261-234d-43f8-ae28-99908a6269da",
      "metadata": {
        "id": "d83bf261-234d-43f8-ae28-99908a6269da"
      },
      "source": [
        "## Opt molecules\n",
        "\n",
        "First, let us try to optimize the structure of a single organic molecule without periodic boundary conditions as a simple example.\n",
        "\n",
        "\n",
        "### 1. Hydrogen molecule\n",
        "\n",
        "First, we will use structural optimization to find the bond length for the most stable structure of the hydrogen molecule,\n",
        "which we did in the previous chapter.\n",
        "\n",
        "The flow will be as follows\n",
        "\n",
        " - Step 1: Prepare a calculator to calculate potential energy.\n",
        " - Step 2: Prepare molecules for structural optimization.\n",
        " - Step 3: Select a method for the structural optimization algorithm and run it."
      ]
    },
    {
      "cell_type": "markdown",
      "id": "3d423e01-62e1-461c-b7e1-ef523814cd8c",
      "metadata": {
        "id": "3d423e01-62e1-461c-b7e1-ef523814cd8c"
      },
      "source": [
        "Step 1: Prepare calculator"
      ]
    },
    {
      "cell_type": "code",
      "execution_count": null,
      "id": "5e2d3f45-5626-41a0-88a1-baaaea6c8b61",
      "metadata": {
        "id": "5e2d3f45-5626-41a0-88a1-baaaea6c8b61",
        "tags": []
      },
      "outputs": [],
      "source": [
        "from ase.calculators.emt import EMT\n",
        "\n",
        "calculator = EMT()"
      ]
    },
    {
      "cell_type": "markdown",
      "id": "4b60f9f4-b1f9-4e67-94c3-cf14a5aecc94",
      "metadata": {
        "id": "4b60f9f4-b1f9-4e67-94c3-cf14a5aecc94"
      },
      "source": [
        "Step 2: Prepare molecules for structural optimization\n",
        "\n",
        "Here we create a hydrogen molecule. We will manually set the initial coordinates at a distance of 1.0A."
      ]
    },
    {
      "cell_type": "code",
      "execution_count": null,
      "id": "7b4afeca-4f4c-422e-bb7a-56c084c772ad",
      "metadata": {
        "id": "7b4afeca-4f4c-422e-bb7a-56c084c772ad",
        "tags": []
      },
      "outputs": [],
      "source": [
        "from ase import Atoms\n",
        "\n",
        "atoms = Atoms(\"H2\", [[0, 0, 0], [0, 0, 1.0]])\n",
        "atoms.calc = calculator"
      ]
    },
    {
      "cell_type": "markdown",
      "id": "16b0f509-e44f-48fd-a75b-863bd8737795",
      "metadata": {
        "id": "16b0f509-e44f-48fd-a75b-863bd8737795"
      },
      "source": [
        "Step 3: Select and run the structural optimization algorithm method\n",
        "\n",
        "As local optimization algorithms, ASE offers the `FIRE` and `MDMin` methods which perform optimization with gradient descent-like behavior, and the `BFGS`, `LBFGS`, `BFGSLineSearch`=`QuasiNewton`, `LBFGSLineSearch` methods which perform optimization by considering second derivertive are provided.\n",
        "The differences and properties of these algorithms are explained in the later section.\n",
        "\n",
        " - https://wiki.fysik.dtu.dk/ase/ase/optimize.html\n",
        "\n",
        "This time, we will use `LBFGS` to perform structural optimization. <br/>\n",
        "We will set `atoms` to the local optimization algorithm and call the `run` method to perform structural optimization. <br/>\n",
        "If you specify the `trajectory` argument, you can save the structural optimization process."
      ]
    },
    {
      "cell_type": "code",
      "execution_count": null,
      "id": "e186514f-2167-4c77-b21b-02bb698b1a5b",
      "metadata": {
        "colab": {
          "base_uri": "https://localhost:8080/"
        },
        "id": "e186514f-2167-4c77-b21b-02bb698b1a5b",
        "outputId": "d7344f87-5693-4a84-8af9-9e95ade46fb0",
        "tags": []
      },
      "outputs": [
        {
          "name": "stdout",
          "output_type": "stream",
          "text": [
            "       Step     Time          Energy          fmax\n",
            "LBFGS:    0 02:41:01        2.299030        8.035807\n",
            "LBFGS:    1 02:41:01        1.073973        0.803630\n",
            "LBFGS:    2 02:41:01        1.077039        1.044666\n",
            "LBFGS:    3 02:41:01        1.070550        0.038983\n",
            "LBFGS:    4 02:41:01        1.070541        0.002004\n"
          ]
        },
        {
          "data": {
            "text/plain": [
              "True"
            ]
          },
          "execution_count": 7,
          "metadata": {},
          "output_type": "execute_result"
        }
      ],
      "source": [
        "import os\n",
        "from ase.optimize import LBFGS, BFGS, FIRE\n",
        "\n",
        "os.makedirs(\"output\", exist_ok=True)\n",
        "\n",
        "opt = LBFGS(atoms, trajectory=\"output/bfgs_h2.traj\")\n",
        "opt.run(fmax=0.01)"
      ]
    },
    {
      "cell_type": "markdown",
      "id": "8e69d8d2-635d-42d6-9d07-fbe9eeb91e3d",
      "metadata": {
        "id": "8e69d8d2-635d-42d6-9d07-fbe9eeb91e3d"
      },
      "source": [
        "In this simple example, the structural optimization was completed in 7 steps, and it took about 2 seconds in Matlantis.\n",
        "\n",
        "Let's visualize the process of structural optimization."
      ]
    },
    {
      "cell_type": "code",
      "execution_count": null,
      "id": "c2618e31-d49b-401c-bfa5-3db1ae6beb4d",
      "metadata": {
        "colab": {
          "base_uri": "https://localhost:8080/",
          "height": 317
        },
        "id": "c2618e31-d49b-401c-bfa5-3db1ae6beb4d",
        "outputId": "18dc1951-0aff-462e-f6f3-4768ffc1a94c",
        "tags": []
      },
      "outputs": [
        {
          "data": {
            "text/html": [
              "<html>\n",
              "    <head>\n",
              "        <title>ASE atomic visualization</title>\n",
              "        <link rel=\"stylesheet\" type=\"text/css\"             href=\"https://www.x3dom.org/release/x3dom.css\"></link>\n",
              "        <script type=\"text/javascript\"             src=\"https://www.x3dom.org/release/x3dom.js\"></script>\n",
              "    </head>\n",
              "    <body>\n",
              "        <X3D width=\"400px\"; height=\"300px\";>\n",
              "\n",
              "<!--Inserting Generated X3D Scene-->\n",
              "<scene>\n",
              "  <viewpoint position=\"0 0 2.0\">\n",
              "    <group/>\n",
              "  </viewpoint>\n",
              "  <transform translation=\"-0.0 -0.0 -0.0\">\n",
              "    <group>\n",
              "      <group>\n",
              "        <transform translation=\"0 0 0\">\n",
              "          <shape>\n",
              "            <appearance>\n",
              "              <material diffuseColor=\"0 0 0\"/>\n",
              "            </appearance>\n",
              "            <lineset vertexCount=\"5\">\n",
              "              <coordinate point=\"0 0 0 0.0 0.0 0.0 0.0 0.0 0.0 0.0 0.0 0.0 0 0 0\"/>\n",
              "            </lineset>\n",
              "          </shape>\n",
              "        </transform>\n",
              "        <transform translation=\"0.0 0.0 0.0\">\n",
              "          <shape>\n",
              "            <appearance>\n",
              "              <material diffuseColor=\"0 0 0\"/>\n",
              "            </appearance>\n",
              "            <lineset vertexCount=\"5\">\n",
              "              <coordinate point=\"0 0 0 0.0 0.0 0.0 0.0 0.0 0.0 0.0 0.0 0.0 0 0 0\"/>\n",
              "            </lineset>\n",
              "          </shape>\n",
              "        </transform>\n",
              "        <transform translation=\"0 0 0\">\n",
              "          <shape>\n",
              "            <appearance>\n",
              "              <material diffuseColor=\"0 0 0\"/>\n",
              "            </appearance>\n",
              "            <lineset vertexCount=\"5\">\n",
              "              <coordinate point=\"0 0 0 0.0 0.0 0.0 0.0 0.0 0.0 0.0 0.0 0.0 0 0 0\"/>\n",
              "            </lineset>\n",
              "          </shape>\n",
              "        </transform>\n",
              "        <transform translation=\"0.0 0.0 0.0\">\n",
              "          <shape>\n",
              "            <appearance>\n",
              "              <material diffuseColor=\"0 0 0\"/>\n",
              "            </appearance>\n",
              "            <lineset vertexCount=\"5\">\n",
              "              <coordinate point=\"0 0 0 0.0 0.0 0.0 0.0 0.0 0.0 0.0 0.0 0.0 0 0 0\"/>\n",
              "            </lineset>\n",
              "          </shape>\n",
              "        </transform>\n",
              "      </group>\n",
              "      <group>\n",
              "        <transform translation=\"0.0 0.0 0.0\">\n",
              "          <shape>\n",
              "            <appearance>\n",
              "              <material diffuseColor=\"1.0 1.0 1.0\"/>\n",
              "            </appearance>\n",
              "            <sphere radius=\"0.31\"/>\n",
              "          </shape>\n",
              "        </transform>\n",
              "        <transform translation=\"0.0 0.0 1.0\">\n",
              "          <shape>\n",
              "            <appearance>\n",
              "              <material diffuseColor=\"1.0 1.0 1.0\"/>\n",
              "            </appearance>\n",
              "            <sphere radius=\"0.31\"/>\n",
              "          </shape>\n",
              "        </transform>\n",
              "      </group>\n",
              "    </group>\n",
              "  </transform>\n",
              "</scene>\n",
              "<!--End of Inserted Scene-->\n",
              "\n",
              "        </X3D>\n",
              "    </body>\n",
              "</html>\n",
              "\n"
            ],
            "text/plain": [
              "<IPython.core.display.HTML object>"
            ]
          },
          "execution_count": 8,
          "metadata": {},
          "output_type": "execute_result"
        }
      ],
      "source": [
        "from ase.io import Trajectory\n",
        "\n",
        "traj = Trajectory(\"output/bfgs_h2.traj\")\n",
        "view_x3d(traj)"
      ]
    },
    {
      "cell_type": "markdown",
      "id": "02d8b40b-0041-41a5-93b6-82be4b91adc8",
      "metadata": {
        "id": "02d8b40b-0041-41a5-93b6-82be4b91adc8"
      },
      "source": [
        "Plot how the atomic distances have changed during structural optimization."
      ]
    },
    {
      "cell_type": "code",
      "execution_count": null,
      "id": "20d5625f-b8a7-4467-aac4-03b15746e18c",
      "metadata": {
        "colab": {
          "base_uri": "https://localhost:8080/"
        },
        "id": "20d5625f-b8a7-4467-aac4-03b15746e18c",
        "outputId": "80fe0585-894b-4e75-f376-822e3bc1d0dd",
        "tags": []
      },
      "outputs": [
        {
          "name": "stdout",
          "output_type": "stream",
          "text": [
            "Distance trajectory [1.0, 0.7704055255375273, 0.7912789110251786, 0.7794811681635996, 0.7790238514009783]\n"
          ]
        }
      ],
      "source": [
        "import numpy as np\n",
        "\n",
        "# np.linalg.norm?\n",
        "distance_list = []\n",
        "E_pot_list = []\n",
        "for atoms in traj:\n",
        "    p1, p2 = atoms.get_positions()\n",
        "    distance = np.linalg.norm(p1 - p2)\n",
        "    distance_list.append(distance)\n",
        "    E_pot_list.append(atoms.get_potential_energy())\n",
        "\n",
        "print(\"Distance trajectory\", distance_list)"
      ]
    },
    {
      "cell_type": "code",
      "execution_count": null,
      "id": "6c8d9bff-43c5-4fb1-903a-cdec07ec4b00",
      "metadata": {
        "colab": {
          "base_uri": "https://localhost:8080/",
          "height": 472
        },
        "id": "6c8d9bff-43c5-4fb1-903a-cdec07ec4b00",
        "outputId": "3ad874a9-c4c4-471c-a09f-78edcfea322a",
        "tags": []
      },
      "outputs": [
        {
          "data": {
            "image/png": "[encoded data removed]",
            "text/plain": [
              "<Figure size 640x480 with 1 Axes>"
            ]
          },
          "metadata": {},
          "output_type": "display_data"
        }
      ],
      "source": [
        "import matplotlib.pyplot as plt\n",
        "plt.plot(distance_list)\n",
        "plt.xlabel(\"step\")\n",
        "plt.ylabel(\"Distance [A]\")\n",
        "plt.title(\"H2 opt trajectory\")\n",
        "plt.show()"
      ]
    },
    {
      "cell_type": "code",
      "execution_count": null,
      "id": "392c8215-3348-4255-a55b-6a20427d0da0",
      "metadata": {
        "colab": {
          "base_uri": "https://localhost:8080/"
        },
        "id": "392c8215-3348-4255-a55b-6a20427d0da0",
        "outputId": "a724b81b-bb6f-4b6b-f67e-e014c01852aa",
        "tags": []
      },
      "outputs": [
        {
          "data": {
            "text/plain": [
              "0.7790238514009783"
            ]
          },
          "execution_count": 11,
          "metadata": {},
          "output_type": "execute_result"
        }
      ],
      "source": [
        "atoms.get_distance(0,1)"
      ]
    },
    {
      "cell_type": "markdown",
      "id": "6962fbc7-1be3-40f4-a98d-1dfac297b787",
      "metadata": {
        "id": "6962fbc7-1be3-40f4-a98d-1dfac297b787"
      },
      "source": [
        "Finally, it settled around `0.78` A.\n",
        "\n",
        "In the previous chapter, we calculated the energies for all bond distances and found the lowest energy value, but we can efficiently find a stable structure by using structural optimization."
      ]
    },
    {
      "cell_type": "markdown",
      "id": "7f082112-21d4-4a9c-a507-7938523891e0",
      "metadata": {
        "id": "7f082112-21d4-4a9c-a507-7938523891e0"
      },
      "source": [
        "### 2. Cyclohexane\n",
        "\n",
        "As a next example, consider the stable structure of cyclohexane.\n",
        "\n",
        "Cyclohexane has the structure C6H12, but is known to take several conformations. <br/>\n",
        "Typical conformational isomers include chair (A), twist-boat (B), boat (C), and half-chair (D), as shown in the figure below.\n",
        "\n",
        "The chair conformation is the most stable (lowest energy); at 25°C, 99.99% of all molecules in cyclohexane solution are in this conformation. <br/>\n",
        "In this section, we will prepare the initial structures of the chair shape (A) and the boat shape (C), perform structural optimization, and compare their shapes and potential energies.\n",
        "\n",
        "<figure style=\"width:600px\">\n",
        "  <img src=\"https://upload.wikimedia.org/wikipedia/commons/7/7a/Cyclohexane_ring_flip_and_relative_conformation_energies.svg\"/>\n",
        "</figure>\n",
        "\n",
        "<cite>Cite from [cyclohexane conformation](https://en.wikipedia.org/wiki/Cyclohexane_conformation)</cite>"
      ]
    },
    {
      "cell_type": "markdown",
      "id": "5e968268-a975-492d-a479-65893cb1cea6",
      "metadata": {
        "id": "5e968268-a975-492d-a479-65893cb1cea6"
      },
      "source": [
        "**Prepare initial coordinate structure**\n",
        "\n",
        "The chair shape is prepared from the structure published in PubChem.\n",
        "\n",
        "3D structure image of CID 8078 Cyclohexane (Compound)\n",
        "\n",
        "PubChem Identifier: CID 8078<br/>\n",
        "URL: https://pubchem.ncbi.nlm.nih.gov/compound/8078#section=3D-Conformer\n"
      ]
    },
    {
      "cell_type": "code",
      "execution_count": null,
      "id": "0361dcee-ef7f-4f06-8b49-be1b632f77c4",
      "metadata": {
        "colab": {
          "base_uri": "https://localhost:8080/",
          "height": 317
        },
        "id": "0361dcee-ef7f-4f06-8b49-be1b632f77c4",
        "outputId": "dd84c0d6-2d4b-4ae4-a891-bb4e663a5370",
        "tags": []
      },
      "outputs": [
        {
          "data": {
            "text/html": [
              "<html>\n",
              "    <head>\n",
              "        <title>ASE atomic visualization</title>\n",
              "        <link rel=\"stylesheet\" type=\"text/css\"             href=\"https://www.x3dom.org/release/x3dom.css\"></link>\n",
              "        <script type=\"text/javascript\"             src=\"https://www.x3dom.org/release/x3dom.js\"></script>\n",
              "    </head>\n",
              "    <body>\n",
              "        <X3D width=\"400px\"; height=\"300px\";>\n",
              "\n",
              "<!--Inserting Generated X3D Scene-->\n",
              "<scene>\n",
              "  <viewpoint position=\"0 0 9.9084\">\n",
              "    <group/>\n",
              "  </viewpoint>\n",
              "  <transform translation=\"-0.0 -0.0 -0.0\">\n",
              "    <group>\n",
              "      <group>\n",
              "        <transform translation=\"0 0 0\">\n",
              "          <shape>\n",
              "            <appearance>\n",
              "              <material diffuseColor=\"0 0 0\"/>\n",
              "            </appearance>\n",
              "            <lineset vertexCount=\"5\">\n",
              "              <coordinate point=\"0 0 0 0.0 0.0 0.0 0.0 0.0 0.0 0.0 0.0 0.0 0 0 0\"/>\n",
              "            </lineset>\n",
              "          </shape>\n",
              "        </transform>\n",
              "        <transform translation=\"0.0 0.0 0.0\">\n",
              "          <shape>\n",
              "            <appearance>\n",
              "              <material diffuseColor=\"0 0 0\"/>\n",
              "            </appearance>\n",
              "            <lineset vertexCount=\"5\">\n",
              "              <coordinate point=\"0 0 0 0.0 0.0 0.0 0.0 0.0 0.0 0.0 0.0 0.0 0 0 0\"/>\n",
              "            </lineset>\n",
              "          </shape>\n",
              "        </transform>\n",
              "        <transform translation=\"0 0 0\">\n",
              "          <shape>\n",
              "            <appearance>\n",
              "              <material diffuseColor=\"0 0 0\"/>\n",
              "            </appearance>\n",
              "            <lineset vertexCount=\"5\">\n",
              "              <coordinate point=\"0 0 0 0.0 0.0 0.0 0.0 0.0 0.0 0.0 0.0 0.0 0 0 0\"/>\n",
              "            </lineset>\n",
              "          </shape>\n",
              "        </transform>\n",
              "        <transform translation=\"0.0 0.0 0.0\">\n",
              "          <shape>\n",
              "            <appearance>\n",
              "              <material diffuseColor=\"0 0 0\"/>\n",
              "            </appearance>\n",
              "            <lineset vertexCount=\"5\">\n",
              "              <coordinate point=\"0 0 0 0.0 0.0 0.0 0.0 0.0 0.0 0.0 0.0 0.0 0 0 0\"/>\n",
              "            </lineset>\n",
              "          </shape>\n",
              "        </transform>\n",
              "      </group>\n",
              "      <group>\n",
              "        <transform translation=\"-1.2838 -0.691 0.2258\">\n",
              "          <shape>\n",
              "            <appearance>\n",
              "              <material diffuseColor=\"0.565 0.565 0.565\"/>\n",
              "            </appearance>\n",
              "            <sphere radius=\"0.76\"/>\n",
              "          </shape>\n",
              "        </transform>\n",
              "        <transform translation=\"-1.2404 0.7662 -0.2258\">\n",
              "          <shape>\n",
              "            <appearance>\n",
              "              <material diffuseColor=\"0.565 0.565 0.565\"/>\n",
              "            </appearance>\n",
              "            <sphere radius=\"0.76\"/>\n",
              "          </shape>\n",
              "        </transform>\n",
              "        <transform translation=\"-0.0435 -1.4573 -0.2258\">\n",
              "          <shape>\n",
              "            <appearance>\n",
              "              <material diffuseColor=\"0.565 0.565 0.565\"/>\n",
              "            </appearance>\n",
              "            <sphere radius=\"0.76\"/>\n",
              "          </shape>\n",
              "        </transform>\n",
              "        <transform translation=\"0.0435 1.4573 0.2258\">\n",
              "          <shape>\n",
              "            <appearance>\n",
              "              <material diffuseColor=\"0.565 0.565 0.565\"/>\n",
              "            </appearance>\n",
              "            <sphere radius=\"0.76\"/>\n",
              "          </shape>\n",
              "        </transform>\n",
              "        <transform translation=\"1.2404 -0.7663 0.2258\">\n",
              "          <shape>\n",
              "            <appearance>\n",
              "              <material diffuseColor=\"0.565 0.565 0.565\"/>\n",
              "            </appearance>\n",
              "            <sphere radius=\"0.76\"/>\n",
              "          </shape>\n",
              "        </transform>\n",
              "        <transform translation=\"1.2838 0.6911 -0.2257\">\n",
              "          <shape>\n",
              "            <appearance>\n",
              "              <material diffuseColor=\"0.565 0.565 0.565\"/>\n",
              "            </appearance>\n",
              "            <sphere radius=\"0.76\"/>\n",
              "          </shape>\n",
              "        </transform>\n",
              "        <transform translation=\"-2.1821 -1.1746 -0.1741\">\n",
              "          <shape>\n",
              "            <appearance>\n",
              "              <material diffuseColor=\"1.0 1.0 1.0\"/>\n",
              "            </appearance>\n",
              "            <sphere radius=\"0.31\"/>\n",
              "          </shape>\n",
              "        </transform>\n",
              "        <transform translation=\"-1.3588 -0.7314 1.3195\">\n",
              "          <shape>\n",
              "            <appearance>\n",
              "              <material diffuseColor=\"1.0 1.0 1.0\"/>\n",
              "            </appearance>\n",
              "            <sphere radius=\"0.31\"/>\n",
              "          </shape>\n",
              "        </transform>\n",
              "        <transform translation=\"-1.3129 0.811 -1.3195\">\n",
              "          <shape>\n",
              "            <appearance>\n",
              "              <material diffuseColor=\"1.0 1.0 1.0\"/>\n",
              "            </appearance>\n",
              "            <sphere radius=\"0.31\"/>\n",
              "          </shape>\n",
              "        </transform>\n",
              "        <transform translation=\"-2.1083 1.3025 0.1741\">\n",
              "          <shape>\n",
              "            <appearance>\n",
              "              <material diffuseColor=\"1.0 1.0 1.0\"/>\n",
              "            </appearance>\n",
              "            <sphere radius=\"0.31\"/>\n",
              "          </shape>\n",
              "        </transform>\n",
              "        <transform translation=\"-0.046 -1.5425 -1.3194\">\n",
              "          <shape>\n",
              "            <appearance>\n",
              "              <material diffuseColor=\"1.0 1.0 1.0\"/>\n",
              "            </appearance>\n",
              "            <sphere radius=\"0.31\"/>\n",
              "          </shape>\n",
              "        </transform>\n",
              "        <transform translation=\"-0.0739 -2.4771 0.1741\">\n",
              "          <shape>\n",
              "            <appearance>\n",
              "              <material diffuseColor=\"1.0 1.0 1.0\"/>\n",
              "            </appearance>\n",
              "            <sphere radius=\"0.31\"/>\n",
              "          </shape>\n",
              "        </transform>\n",
              "        <transform translation=\"0.0459 1.5425 1.3195\">\n",
              "          <shape>\n",
              "            <appearance>\n",
              "              <material diffuseColor=\"1.0 1.0 1.0\"/>\n",
              "            </appearance>\n",
              "            <sphere radius=\"0.31\"/>\n",
              "          </shape>\n",
              "        </transform>\n",
              "        <transform translation=\"0.0738 2.4771 -0.1742\">\n",
              "          <shape>\n",
              "            <appearance>\n",
              "              <material diffuseColor=\"1.0 1.0 1.0\"/>\n",
              "            </appearance>\n",
              "            <sphere radius=\"0.31\"/>\n",
              "          </shape>\n",
              "        </transform>\n",
              "        <transform translation=\"1.3129 -0.8111 1.3194\">\n",
              "          <shape>\n",
              "            <appearance>\n",
              "              <material diffuseColor=\"1.0 1.0 1.0\"/>\n",
              "            </appearance>\n",
              "            <sphere radius=\"0.31\"/>\n",
              "          </shape>\n",
              "        </transform>\n",
              "        <transform translation=\"2.1083 -1.3026 -0.1742\">\n",
              "          <shape>\n",
              "            <appearance>\n",
              "              <material diffuseColor=\"1.0 1.0 1.0\"/>\n",
              "            </appearance>\n",
              "            <sphere radius=\"0.31\"/>\n",
              "          </shape>\n",
              "        </transform>\n",
              "        <transform translation=\"2.1821 1.1746 0.1742\">\n",
              "          <shape>\n",
              "            <appearance>\n",
              "              <material diffuseColor=\"1.0 1.0 1.0\"/>\n",
              "            </appearance>\n",
              "            <sphere radius=\"0.31\"/>\n",
              "          </shape>\n",
              "        </transform>\n",
              "        <transform translation=\"1.359 0.7315 -1.3194\">\n",
              "          <shape>\n",
              "            <appearance>\n",
              "              <material diffuseColor=\"1.0 1.0 1.0\"/>\n",
              "            </appearance>\n",
              "            <sphere radius=\"0.31\"/>\n",
              "          </shape>\n",
              "        </transform>\n",
              "      </group>\n",
              "    </group>\n",
              "  </transform>\n",
              "</scene>\n",
              "<!--End of Inserted Scene-->\n",
              "\n",
              "        </X3D>\n",
              "    </body>\n",
              "</html>\n",
              "\n"
            ],
            "text/plain": [
              "<IPython.core.display.HTML object>"
            ]
          },
          "execution_count": 12,
          "metadata": {},
          "output_type": "execute_result"
        }
      ],
      "source": [
        "from ase.data.pubchem import pubchem_atoms_search\n",
        "\n",
        "chair_atoms = pubchem_atoms_search(smiles=\"C1CCCCC1\")\n",
        "view_x3d(chair_atoms)"
      ]
    },
    {
      "cell_type": "markdown",
      "id": "30a1e22c-de05-4364-a3cc-64c65610bd4e",
      "metadata": {
        "id": "30a1e22c-de05-4364-a3cc-64c65610bd4e"
      },
      "source": [
        "In this tutorial, let's generate the boat shape by manually changing the coordinate values from the chair shape.\n",
        "\n",
        "You can skip understanding the code even if you don't know what it does. (We create atoms rotated 180 degrees, and only atoms 2, 10, and 11 are overwritten with the rotated coordinates.)"
      ]
    },
    {
      "cell_type": "code",
      "execution_count": null,
      "id": "adad24da-bc58-411a-85cc-97c61d0b6623",
      "metadata": {
        "id": "adad24da-bc58-411a-85cc-97c61d0b6623",
        "tags": []
      },
      "outputs": [],
      "source": [
        "boat_atoms = chair_atoms.copy()\n",
        "axis = boat_atoms.positions[[1, 5]].mean(axis=0) - boat_atoms.positions[[0, 4]].mean(axis=0)\n",
        "boat_atoms.rotate(180, axis)\n",
        "# inds = [1, 3, 5, 8, 9, 12, 13, 16, 17]\n",
        "inds = [2, 10, 11]\n",
        "boat_atoms.positions[inds] = chair_atoms.positions[inds]"
      ]
    },
    {
      "cell_type": "code",
      "execution_count": null,
      "id": "47d5b4eb-5147-4f6c-a2a1-70281d036e08",
      "metadata": {
        "colab": {
          "base_uri": "https://localhost:8080/",
          "height": 317
        },
        "id": "47d5b4eb-5147-4f6c-a2a1-70281d036e08",
        "outputId": "abf54846-0db3-42c4-f3aa-5ca436187bf1",
        "tags": []
      },
      "outputs": [
        {
          "data": {
            "text/html": [
              "<html>\n",
              "    <head>\n",
              "        <title>ASE atomic visualization</title>\n",
              "        <link rel=\"stylesheet\" type=\"text/css\"             href=\"https://www.x3dom.org/release/x3dom.css\"></link>\n",
              "        <script type=\"text/javascript\"             src=\"https://www.x3dom.org/release/x3dom.js\"></script>\n",
              "    </head>\n",
              "    <body>\n",
              "        <X3D width=\"400px\"; height=\"300px\";>\n",
              "\n",
              "<!--Inserting Generated X3D Scene-->\n",
              "<scene>\n",
              "  <viewpoint position=\"0 0 9.237972077147774\">\n",
              "    <group/>\n",
              "  </viewpoint>\n",
              "  <transform translation=\"-0.0 -0.0 -0.0\">\n",
              "    <group>\n",
              "      <group>\n",
              "        <transform translation=\"0 0 0\">\n",
              "          <shape>\n",
              "            <appearance>\n",
              "              <material diffuseColor=\"0 0 0\"/>\n",
              "            </appearance>\n",
              "            <lineset vertexCount=\"5\">\n",
              "              <coordinate point=\"0 0 0 0.0 0.0 0.0 0.0 0.0 0.0 0.0 0.0 0.0 0 0 0\"/>\n",
              "            </lineset>\n",
              "          </shape>\n",
              "        </transform>\n",
              "        <transform translation=\"0.0 0.0 0.0\">\n",
              "          <shape>\n",
              "            <appearance>\n",
              "              <material diffuseColor=\"0 0 0\"/>\n",
              "            </appearance>\n",
              "            <lineset vertexCount=\"5\">\n",
              "              <coordinate point=\"0 0 0 0.0 0.0 0.0 0.0 0.0 0.0 0.0 0.0 0.0 0 0 0\"/>\n",
              "            </lineset>\n",
              "          </shape>\n",
              "        </transform>\n",
              "        <transform translation=\"0 0 0\">\n",
              "          <shape>\n",
              "            <appearance>\n",
              "              <material diffuseColor=\"0 0 0\"/>\n",
              "            </appearance>\n",
              "            <lineset vertexCount=\"5\">\n",
              "              <coordinate point=\"0 0 0 0.0 0.0 0.0 0.0 0.0 0.0 0.0 0.0 0.0 0 0 0\"/>\n",
              "            </lineset>\n",
              "          </shape>\n",
              "        </transform>\n",
              "        <transform translation=\"0.0 0.0 0.0\">\n",
              "          <shape>\n",
              "            <appearance>\n",
              "              <material diffuseColor=\"0 0 0\"/>\n",
              "            </appearance>\n",
              "            <lineset vertexCount=\"5\">\n",
              "              <coordinate point=\"0 0 0 0.0 0.0 0.0 0.0 0.0 0.0 0.0 0.0 0.0 0 0 0\"/>\n",
              "            </lineset>\n",
              "          </shape>\n",
              "        </transform>\n",
              "      </group>\n",
              "      <group>\n",
              "        <transform translation=\"1.2404030150322725 -0.7661987602181893 0.22571863046491705\">\n",
              "          <shape>\n",
              "            <appearance>\n",
              "              <material diffuseColor=\"0.565 0.565 0.565\"/>\n",
              "            </appearance>\n",
              "            <sphere radius=\"0.76\"/>\n",
              "          </shape>\n",
              "        </transform>\n",
              "        <transform translation=\"1.283798426228887 0.6910471553768927 -0.22573362589064414\">\n",
              "          <shape>\n",
              "            <appearance>\n",
              "              <material diffuseColor=\"0.565 0.565 0.565\"/>\n",
              "            </appearance>\n",
              "            <sphere radius=\"0.76\"/>\n",
              "          </shape>\n",
              "        </transform>\n",
              "        <transform translation=\"-0.0435 -1.4573 -0.2258\">\n",
              "          <shape>\n",
              "            <appearance>\n",
              "              <material diffuseColor=\"0.565 0.565 0.565\"/>\n",
              "            </appearance>\n",
              "            <sphere radius=\"0.76\"/>\n",
              "          </shape>\n",
              "        </transform>\n",
              "        <transform translation=\"0.03190356450154221 1.0746266024907158 -1.0103271785868957\">\n",
              "          <shape>\n",
              "            <appearance>\n",
              "              <material diffuseColor=\"0.565 0.565 0.565\"/>\n",
              "            </appearance>\n",
              "            <sphere radius=\"0.76\"/>\n",
              "          </shape>\n",
              "        </transform>\n",
              "        <transform translation=\"-1.2838038562958152 -0.6911294880159269 0.2257901223588771\">\n",
              "          <shape>\n",
              "            <appearance>\n",
              "              <material diffuseColor=\"0.565 0.565 0.565\"/>\n",
              "            </appearance>\n",
              "            <sphere radius=\"0.76\"/>\n",
              "          </shape>\n",
              "        </transform>\n",
              "        <transform translation=\"-1.2403992674924296 0.7662245963889909 -0.22585762128556172\">\n",
              "          <shape>\n",
              "            <appearance>\n",
              "              <material diffuseColor=\"0.565 0.565 0.565\"/>\n",
              "            </appearance>\n",
              "            <sphere radius=\"0.76\"/>\n",
              "          </shape>\n",
              "        </transform>\n",
              "        <transform translation=\"2.1177189659147233 -0.9872083173381114 0.843944606940249\">\n",
              "          <shape>\n",
              "            <appearance>\n",
              "              <material diffuseColor=\"1.0 1.0 1.0\"/>\n",
              "            </appearance>\n",
              "            <sphere radius=\"0.31\"/>\n",
              "          </shape>\n",
              "        </transform>\n",
              "        <transform translation=\"1.2946861842292345 -1.4214355696483112 -0.6524356333804328\">\n",
              "          <shape>\n",
              "            <appearance>\n",
              "              <material diffuseColor=\"1.0 1.0 1.0\"/>\n",
              "            </appearance>\n",
              "            <sphere radius=\"0.31\"/>\n",
              "          </shape>\n",
              "        </transform>\n",
              "        <transform translation=\"1.3770156527453044 1.3418972522058104 0.6524165208031748\">\n",
              "          <shape>\n",
              "            <appearance>\n",
              "              <material diffuseColor=\"1.0 1.0 1.0\"/>\n",
              "            </appearance>\n",
              "            <sphere radius=\"0.31\"/>\n",
              "          </shape>\n",
              "        </transform>\n",
              "        <transform translation=\"2.1726879389483966 0.859540171186594 -0.8440164477453553\">\n",
              "          <shape>\n",
              "            <appearance>\n",
              "              <material diffuseColor=\"1.0 1.0 1.0\"/>\n",
              "            </appearance>\n",
              "            <sphere radius=\"0.31\"/>\n",
              "          </shape>\n",
              "        </transform>\n",
              "        <transform translation=\"-0.046 -1.5425 -1.3194\">\n",
              "          <shape>\n",
              "            <appearance>\n",
              "              <material diffuseColor=\"1.0 1.0 1.0\"/>\n",
              "            </appearance>\n",
              "            <sphere radius=\"0.31\"/>\n",
              "          </shape>\n",
              "        </transform>\n",
              "        <transform translation=\"-0.0739 -2.4771 0.1741\">\n",
              "          <shape>\n",
              "            <appearance>\n",
              "              <material diffuseColor=\"1.0 1.0 1.0\"/>\n",
              "            </appearance>\n",
              "            <sphere radius=\"0.31\"/>\n",
              "          </shape>\n",
              "        </transform>\n",
              "        <transform translation=\"0.015732063913993996 0.5270024594899296 -1.9607432824968622\">\n",
              "          <shape>\n",
              "            <appearance>\n",
              "              <material diffuseColor=\"1.0 1.0 1.0\"/>\n",
              "            </appearance>\n",
              "            <sphere radius=\"0.31\"/>\n",
              "          </shape>\n",
              "        </transform>\n",
              "        <transform translation=\"0.06375849452693837 2.1418860385738867 -1.257010557687531\">\n",
              "          <shape>\n",
              "            <appearance>\n",
              "              <material diffuseColor=\"1.0 1.0 1.0\"/>\n",
              "            </appearance>\n",
              "            <sphere radius=\"0.31\"/>\n",
              "          </shape>\n",
              "        </transform>\n",
              "        <transform translation=\"-1.377019400285147 -1.3419230883766113 -0.6522775299825302\">\n",
              "          <shape>\n",
              "            <appearance>\n",
              "              <material diffuseColor=\"1.0 1.0 1.0\"/>\n",
              "            </appearance>\n",
              "            <sphere radius=\"0.31\"/>\n",
              "          </shape>\n",
              "        </transform>\n",
              "        <transform translation=\"-2.172691686488239 -0.8595660073573952 0.8441554385659997\">\n",
              "          <shape>\n",
              "            <appearance>\n",
              "              <material diffuseColor=\"1.0 1.0 1.0\"/>\n",
              "            </appearance>\n",
              "            <sphere radius=\"0.31\"/>\n",
              "          </shape>\n",
              "        </transform>\n",
              "        <transform translation=\"-2.1177206484418085 0.9871518208698784 -0.8440271012926605\">\n",
              "          <shape>\n",
              "            <appearance>\n",
              "              <material diffuseColor=\"1.0 1.0 1.0\"/>\n",
              "            </appearance>\n",
              "            <sphere radius=\"0.31\"/>\n",
              "          </shape>\n",
              "        </transform>\n",
              "        <transform translation=\"-1.2948821132626374 1.4214722659529682 0.6522932775056177\">\n",
              "          <shape>\n",
              "            <appearance>\n",
              "              <material diffuseColor=\"1.0 1.0 1.0\"/>\n",
              "            </appearance>\n",
              "            <sphere radius=\"0.31\"/>\n",
              "          </shape>\n",
              "        </transform>\n",
              "      </group>\n",
              "    </group>\n",
              "  </transform>\n",
              "</scene>\n",
              "<!--End of Inserted Scene-->\n",
              "\n",
              "        </X3D>\n",
              "    </body>\n",
              "</html>\n",
              "\n"
            ],
            "text/plain": [
              "<IPython.core.display.HTML object>"
            ]
          },
          "execution_count": 14,
          "metadata": {},
          "output_type": "execute_result"
        }
      ],
      "source": [
        "view_x3d(boat_atoms)"
      ]
    },
    {
      "cell_type": "code",
      "execution_count": null,
      "id": "6f55f03e-09f1-4996-8f05-80c487b28a56",
      "metadata": {
        "id": "6f55f03e-09f1-4996-8f05-80c487b28a56"
      },
      "outputs": [],
      "source": [
        "from ase.calculators.mopac import MOPAC"
      ]
    },
    {
      "cell_type": "code",
      "execution_count": null,
      "id": "b2c0e2e4-c3d9-4e96-8640-91168a98e474",
      "metadata": {
        "colab": {
          "base_uri": "https://localhost:8080/"
        },
        "id": "b2c0e2e4-c3d9-4e96-8640-91168a98e474",
        "outputId": "516e8fc9-7d93-466c-9841-8dd6e18bf265",
        "tags": []
      },
      "outputs": [
        {
          "name": "stdout",
          "output_type": "stream",
          "text": [
            "       Step     Time          Energy          fmax\n",
            "LBFGS:    0 02:41:03       -1.150365        0.309415\n",
            "LBFGS:    1 02:41:03       -1.165427        0.228094\n",
            "LBFGS:    2 02:41:03       -1.178933        0.089017\n",
            "LBFGS:    3 02:41:04       -1.180112        0.083079\n",
            "LBFGS:    4 02:41:04       -1.181583        0.064370\n",
            "LBFGS:    5 02:41:04       -1.182878        0.073467\n",
            "LBFGS:    6 02:41:04       -1.183974        0.060463\n",
            "LBFGS:    7 02:41:04       -1.184364        0.031105\n"
          ]
        },
        {
          "data": {
            "text/plain": [
              "True"
            ]
          },
          "execution_count": 16,
          "metadata": {},
          "output_type": "execute_result"
        }
      ],
      "source": [
        "calculator = MOPAC(label='ch-chair',  # 出力ファイルのベース名\n",
        "                   method='PM7',  # 使用するMOPACのキーワード\n",
        "                   task='1SCF GRADIENTS')  # 実行するタスク\n",
        "\n",
        "chair_atoms.calc = calculator\n",
        "opt = LBFGS(chair_atoms, trajectory=\"output/lbfgs_cyclohexane_chair.traj\")\n",
        "opt.run()"
      ]
    },
    {
      "cell_type": "code",
      "execution_count": null,
      "id": "2c11d629-e02e-416c-aefb-68965b6b2fdd",
      "metadata": {
        "colab": {
          "base_uri": "https://localhost:8080/"
        },
        "id": "2c11d629-e02e-416c-aefb-68965b6b2fdd",
        "outputId": "4a49d039-12ed-4244-c535-cb1d104cd858",
        "tags": []
      },
      "outputs": [
        {
          "name": "stdout",
          "output_type": "stream",
          "text": [
            "       Step     Time          Energy          fmax\n",
            "LBFGS:    0 02:41:04        5.137694        6.378012\n",
            "LBFGS:    1 02:41:04        3.513215        4.774263\n",
            "LBFGS:    2 02:41:04        1.525382        2.677209\n",
            "LBFGS:    3 02:41:05        0.695720        4.069893\n",
            "LBFGS:    4 02:41:05        0.193902        3.330441\n",
            "LBFGS:    5 02:41:05       -0.135080        2.197739\n",
            "LBFGS:    6 02:41:05       -0.267527        2.068294\n",
            "LBFGS:    7 02:41:05       -0.635942        0.807765\n",
            "LBFGS:    8 02:41:05       -0.709424        0.575753\n",
            "LBFGS:    9 02:41:05       -0.763875        0.495242\n",
            "LBFGS:   10 02:41:05       -0.802269        0.504294\n",
            "LBFGS:   11 02:41:05       -0.851803        0.426728\n",
            "LBFGS:   12 02:41:06       -0.876820        0.351092\n",
            "LBFGS:   13 02:41:06       -0.893220        0.331347\n",
            "LBFGS:   14 02:41:06       -0.904347        0.270903\n",
            "LBFGS:   15 02:41:06       -0.913095        0.241499\n",
            "LBFGS:   16 02:41:06       -0.918015        0.169009\n",
            "LBFGS:   17 02:41:06       -0.921146        0.211671\n",
            "LBFGS:   18 02:41:06       -0.924191        0.194982\n",
            "LBFGS:   19 02:41:07       -0.927526        0.153205\n",
            "LBFGS:   20 02:41:07       -0.930453        0.134204\n",
            "LBFGS:   21 02:41:07       -0.932749        0.149664\n",
            "LBFGS:   22 02:41:07       -0.934755        0.120452\n",
            "LBFGS:   23 02:41:07       -0.936844        0.113669\n",
            "LBFGS:   24 02:41:07       -0.938968        0.137406\n",
            "LBFGS:   25 02:41:07       -0.940935        0.132853\n",
            "LBFGS:   26 02:41:07       -0.943013        0.114849\n",
            "LBFGS:   27 02:41:07       -0.945691        0.131899\n",
            "LBFGS:   28 02:41:08       -0.948954        0.156690\n",
            "LBFGS:   29 02:41:08       -0.952342        0.152609\n",
            "LBFGS:   30 02:41:08       -0.955774        0.174948\n",
            "LBFGS:   31 02:41:08       -0.959974        0.179612\n",
            "LBFGS:   32 02:41:08       -0.966983        0.209980\n",
            "LBFGS:   33 02:41:08       -0.977674        0.313382\n",
            "LBFGS:   34 02:41:08       -0.988195        0.282868\n",
            "LBFGS:   35 02:41:08       -0.995851        0.171828\n",
            "LBFGS:   36 02:41:09       -1.000301        0.163706\n",
            "LBFGS:   37 02:41:09       -1.002711        0.132992\n",
            "LBFGS:   38 02:41:09       -1.004804        0.169232\n",
            "LBFGS:   39 02:41:09       -1.006894        0.115690\n",
            "LBFGS:   40 02:41:09       -1.008257        0.062742\n",
            "LBFGS:   41 02:41:09       -1.008742        0.074765\n",
            "LBFGS:   42 02:41:09       -1.009313        0.076173\n",
            "LBFGS:   43 02:41:09       -1.010000        0.057274\n",
            "LBFGS:   44 02:41:09       -1.010420        0.055052\n",
            "LBFGS:   45 02:41:10       -1.010872        0.058429\n",
            "LBFGS:   46 02:41:10       -1.011303        0.078624\n",
            "LBFGS:   47 02:41:10       -1.011916        0.087028\n",
            "LBFGS:   48 02:41:10       -1.012779        0.085303\n",
            "LBFGS:   49 02:41:10       -1.013842        0.107550\n",
            "LBFGS:   50 02:41:11       -1.014763        0.086095\n",
            "LBFGS:   51 02:41:11       -1.015411        0.061577\n",
            "LBFGS:   52 02:41:11       -1.015944        0.058617\n",
            "LBFGS:   53 02:41:11       -1.016497        0.050366\n",
            "LBFGS:   54 02:41:11       -1.016989        0.063272\n",
            "LBFGS:   55 02:41:11       -1.017295        0.044741\n"
          ]
        },
        {
          "data": {
            "text/plain": [
              "True"
            ]
          },
          "execution_count": 17,
          "metadata": {},
          "output_type": "execute_result"
        }
      ],
      "source": [
        "calculator = MOPAC(label='ch-boat',  # 出力ファイルのベース名\n",
        "                   method='PM7',  # 使用するMOPACのキーワード\n",
        "                   task='1SCF GRADIENTS')  # 実行するタスク\n",
        "\n",
        "boat_atoms.calc = calculator\n",
        "opt = LBFGS(boat_atoms, trajectory=\"output/lbfgs_cyclohexane_boat.traj\")\n",
        "opt.run()"
      ]
    },
    {
      "cell_type": "markdown",
      "id": "486e6f2d-cb8a-4fad-8ded-618d134977e3",
      "metadata": {
        "id": "486e6f2d-cb8a-4fad-8ded-618d134977e3"
      },
      "source": [
        "Visualize and check the structure after structural optimization."
      ]
    },
    {
      "cell_type": "code",
      "execution_count": null,
      "id": "ecb059eb-474b-47b8-943d-e68016a95173",
      "metadata": {
        "colab": {
          "base_uri": "https://localhost:8080/",
          "height": 317
        },
        "id": "ecb059eb-474b-47b8-943d-e68016a95173",
        "outputId": "1b7c864f-ecad-4c9d-946d-01e7dcde5e60",
        "tags": []
      },
      "outputs": [
        {
          "data": {
            "text/html": [
              "<html>\n",
              "    <head>\n",
              "        <title>ASE atomic visualization</title>\n",
              "        <link rel=\"stylesheet\" type=\"text/css\"             href=\"https://www.x3dom.org/release/x3dom.css\"></link>\n",
              "        <script type=\"text/javascript\"             src=\"https://www.x3dom.org/release/x3dom.js\"></script>\n",
              "    </head>\n",
              "    <body>\n",
              "        <X3D width=\"400px\"; height=\"300px\";>\n",
              "\n",
              "<!--Inserting Generated X3D Scene-->\n",
              "<scene>\n",
              "  <viewpoint position=\"0 0 9.986663678799975\">\n",
              "    <group/>\n",
              "  </viewpoint>\n",
              "  <transform translation=\"-0.0 -0.0 -0.0\">\n",
              "    <group>\n",
              "      <group>\n",
              "        <transform translation=\"0 0 0\">\n",
              "          <shape>\n",
              "            <appearance>\n",
              "              <material diffuseColor=\"0 0 0\"/>\n",
              "            </appearance>\n",
              "            <lineset vertexCount=\"5\">\n",
              "              <coordinate point=\"0 0 0 0.0 0.0 0.0 0.0 0.0 0.0 0.0 0.0 0.0 0 0 0\"/>\n",
              "            </lineset>\n",
              "          </shape>\n",
              "        </transform>\n",
              "        <transform translation=\"0.0 0.0 0.0\">\n",
              "          <shape>\n",
              "            <appearance>\n",
              "              <material diffuseColor=\"0 0 0\"/>\n",
              "            </appearance>\n",
              "            <lineset vertexCount=\"5\">\n",
              "              <coordinate point=\"0 0 0 0.0 0.0 0.0 0.0 0.0 0.0 0.0 0.0 0.0 0 0 0\"/>\n",
              "            </lineset>\n",
              "          </shape>\n",
              "        </transform>\n",
              "        <transform translation=\"0 0 0\">\n",
              "          <shape>\n",
              "            <appearance>\n",
              "              <material diffuseColor=\"0 0 0\"/>\n",
              "            </appearance>\n",
              "            <lineset vertexCount=\"5\">\n",
              "              <coordinate point=\"0 0 0 0.0 0.0 0.0 0.0 0.0 0.0 0.0 0.0 0.0 0 0 0\"/>\n",
              "            </lineset>\n",
              "          </shape>\n",
              "        </transform>\n",
              "        <transform translation=\"0.0 0.0 0.0\">\n",
              "          <shape>\n",
              "            <appearance>\n",
              "              <material diffuseColor=\"0 0 0\"/>\n",
              "            </appearance>\n",
              "            <lineset vertexCount=\"5\">\n",
              "              <coordinate point=\"0 0 0 0.0 0.0 0.0 0.0 0.0 0.0 0.0 0.0 0.0 0 0 0\"/>\n",
              "            </lineset>\n",
              "          </shape>\n",
              "        </transform>\n",
              "      </group>\n",
              "      <group>\n",
              "        <transform translation=\"-1.2880396839342596 -0.6933158667921631 0.2324816387140303\">\n",
              "          <shape>\n",
              "            <appearance>\n",
              "              <material diffuseColor=\"0.565 0.565 0.565\"/>\n",
              "            </appearance>\n",
              "            <sphere radius=\"0.76\"/>\n",
              "          </shape>\n",
              "        </transform>\n",
              "        <transform translation=\"-1.2444571070159844 0.7688040623271731 -0.23244221821154007\">\n",
              "          <shape>\n",
              "            <appearance>\n",
              "              <material diffuseColor=\"0.565 0.565 0.565\"/>\n",
              "            </appearance>\n",
              "            <sphere radius=\"0.76\"/>\n",
              "          </shape>\n",
              "        </transform>\n",
              "        <transform translation=\"-0.0436436239279234 -1.4621869131131895 -0.2324065556037237\">\n",
              "          <shape>\n",
              "            <appearance>\n",
              "              <material diffuseColor=\"0.565 0.565 0.565\"/>\n",
              "            </appearance>\n",
              "            <sphere radius=\"0.76\"/>\n",
              "          </shape>\n",
              "        </transform>\n",
              "        <transform translation=\"0.04362081038282017 1.4621966340905632 0.23242842604703323\">\n",
              "          <shape>\n",
              "            <appearance>\n",
              "              <material diffuseColor=\"0.565 0.565 0.565\"/>\n",
              "            </appearance>\n",
              "            <sphere radius=\"0.76\"/>\n",
              "          </shape>\n",
              "        </transform>\n",
              "        <transform translation=\"1.2444605462366152 -0.7688323276491779 0.23246505388240835\">\n",
              "          <shape>\n",
              "            <appearance>\n",
              "              <material diffuseColor=\"0.565 0.565 0.565\"/>\n",
              "            </appearance>\n",
              "            <sphere radius=\"0.76\"/>\n",
              "          </shape>\n",
              "        </transform>\n",
              "        <transform translation=\"1.2880678837275175 0.6933249018345178 -0.23238689403223392\">\n",
              "          <shape>\n",
              "            <appearance>\n",
              "              <material diffuseColor=\"0.565 0.565 0.565\"/>\n",
              "            </appearance>\n",
              "            <sphere radius=\"0.76\"/>\n",
              "          </shape>\n",
              "        </transform>\n",
              "        <transform translation=\"-2.199354525700139 -1.1838027065658259 -0.1569188616570489\">\n",
              "          <shape>\n",
              "            <appearance>\n",
              "              <material diffuseColor=\"1.0 1.0 1.0\"/>\n",
              "            </appearance>\n",
              "            <sphere radius=\"0.31\"/>\n",
              "          </shape>\n",
              "        </transform>\n",
              "        <transform translation=\"-1.3667072774823854 -0.7356387688427669 1.334259315842428\">\n",
              "          <shape>\n",
              "            <appearance>\n",
              "              <material diffuseColor=\"1.0 1.0 1.0\"/>\n",
              "            </appearance>\n",
              "            <sphere radius=\"0.31\"/>\n",
              "          </shape>\n",
              "        </transform>\n",
              "        <transform translation=\"-1.3203966432678302 0.815731148153401 -1.3342298759085582\">\n",
              "          <shape>\n",
              "            <appearance>\n",
              "              <material diffuseColor=\"1.0 1.0 1.0\"/>\n",
              "            </appearance>\n",
              "            <sphere radius=\"0.31\"/>\n",
              "          </shape>\n",
              "        </transform>\n",
              "        <transform translation=\"-2.125015817731789 1.3126907789109517 0.15694117316117773\">\n",
              "          <shape>\n",
              "            <appearance>\n",
              "              <material diffuseColor=\"1.0 1.0 1.0\"/>\n",
              "            </appearance>\n",
              "            <sphere radius=\"0.31\"/>\n",
              "          </shape>\n",
              "        </transform>\n",
              "        <transform translation=\"-0.04628774794292003 -1.5514032182851962 -1.3341944125186305\">\n",
              "          <shape>\n",
              "            <appearance>\n",
              "              <material diffuseColor=\"1.0 1.0 1.0\"/>\n",
              "            </appearance>\n",
              "            <sphere radius=\"0.31\"/>\n",
              "          </shape>\n",
              "        </transform>\n",
              "        <transform translation=\"-0.07445089223718283 -2.496709577925016 0.15696339899048883\">\n",
              "          <shape>\n",
              "            <appearance>\n",
              "              <material diffuseColor=\"1.0 1.0 1.0\"/>\n",
              "            </appearance>\n",
              "            <sphere radius=\"0.31\"/>\n",
              "          </shape>\n",
              "        </transform>\n",
              "        <transform translation=\"0.046243596913220754 1.5515429216542642 1.3342055269182702\">\n",
              "          <shape>\n",
              "            <appearance>\n",
              "              <material diffuseColor=\"1.0 1.0 1.0\"/>\n",
              "            </appearance>\n",
              "            <sphere radius=\"0.31\"/>\n",
              "          </shape>\n",
              "        </transform>\n",
              "        <transform translation=\"0.07445641147892558 2.4966222614749713 -0.15715896448843827\">\n",
              "          <shape>\n",
              "            <appearance>\n",
              "              <material diffuseColor=\"1.0 1.0 1.0\"/>\n",
              "            </appearance>\n",
              "            <sphere radius=\"0.31\"/>\n",
              "          </shape>\n",
              "        </transform>\n",
              "        <transform translation=\"1.3205583854608167 -0.8158386422107777 1.3342323848991842\">\n",
              "          <shape>\n",
              "            <appearance>\n",
              "              <material diffuseColor=\"1.0 1.0 1.0\"/>\n",
              "            </appearance>\n",
              "            <sphere radius=\"0.31\"/>\n",
              "          </shape>\n",
              "        </transform>\n",
              "        <transform translation=\"2.124812025360032 -1.312840055265559 -0.15713143230781984\">\n",
              "          <shape>\n",
              "            <appearance>\n",
              "              <material diffuseColor=\"1.0 1.0 1.0\"/>\n",
              "            </appearance>\n",
              "            <sphere radius=\"0.31\"/>\n",
              "          </shape>\n",
              "        </transform>\n",
              "        <transform translation=\"2.1993638533009365 1.1838724113369372 0.1571724559776706\">\n",
              "          <shape>\n",
              "            <appearance>\n",
              "              <material diffuseColor=\"1.0 1.0 1.0\"/>\n",
              "            </appearance>\n",
              "            <sphere radius=\"0.31\"/>\n",
              "          </shape>\n",
              "        </transform>\n",
              "        <transform translation=\"1.3667698325510074 0.735682981861106 -1.334180126120767\">\n",
              "          <shape>\n",
              "            <appearance>\n",
              "              <material diffuseColor=\"1.0 1.0 1.0\"/>\n",
              "            </appearance>\n",
              "            <sphere radius=\"0.31\"/>\n",
              "          </shape>\n",
              "        </transform>\n",
              "      </group>\n",
              "    </group>\n",
              "  </transform>\n",
              "</scene>\n",
              "<!--End of Inserted Scene-->\n",
              "\n",
              "        </X3D>\n",
              "    </body>\n",
              "</html>\n",
              "\n"
            ],
            "text/plain": [
              "<IPython.core.display.HTML object>"
            ]
          },
          "execution_count": 18,
          "metadata": {},
          "output_type": "execute_result"
        }
      ],
      "source": [
        "view_x3d(chair_atoms)"
      ]
    },
    {
      "cell_type": "code",
      "execution_count": null,
      "id": "e08b0fc8-744f-4b35-887e-aefae5a6f63b",
      "metadata": {
        "colab": {
          "base_uri": "https://localhost:8080/",
          "height": 317
        },
        "id": "e08b0fc8-744f-4b35-887e-aefae5a6f63b",
        "outputId": "328e78fe-d712-41a1-ea5e-95992263fcc4",
        "tags": []
      },
      "outputs": [
        {
          "data": {
            "text/html": [
              "<html>\n",
              "    <head>\n",
              "        <title>ASE atomic visualization</title>\n",
              "        <link rel=\"stylesheet\" type=\"text/css\"             href=\"https://www.x3dom.org/release/x3dom.css\"></link>\n",
              "        <script type=\"text/javascript\"             src=\"https://www.x3dom.org/release/x3dom.js\"></script>\n",
              "    </head>\n",
              "    <body>\n",
              "        <X3D width=\"400px\"; height=\"300px\";>\n",
              "\n",
              "<!--Inserting Generated X3D Scene-->\n",
              "<scene>\n",
              "  <viewpoint position=\"0 0 9.495842012451167\">\n",
              "    <group/>\n",
              "  </viewpoint>\n",
              "  <transform translation=\"-0.0 -0.0 -0.0\">\n",
              "    <group>\n",
              "      <group>\n",
              "        <transform translation=\"0 0 0\">\n",
              "          <shape>\n",
              "            <appearance>\n",
              "              <material diffuseColor=\"0 0 0\"/>\n",
              "            </appearance>\n",
              "            <lineset vertexCount=\"5\">\n",
              "              <coordinate point=\"0 0 0 0.0 0.0 0.0 0.0 0.0 0.0 0.0 0.0 0.0 0 0 0\"/>\n",
              "            </lineset>\n",
              "          </shape>\n",
              "        </transform>\n",
              "        <transform translation=\"0.0 0.0 0.0\">\n",
              "          <shape>\n",
              "            <appearance>\n",
              "              <material diffuseColor=\"0 0 0\"/>\n",
              "            </appearance>\n",
              "            <lineset vertexCount=\"5\">\n",
              "              <coordinate point=\"0 0 0 0.0 0.0 0.0 0.0 0.0 0.0 0.0 0.0 0.0 0 0 0\"/>\n",
              "            </lineset>\n",
              "          </shape>\n",
              "        </transform>\n",
              "        <transform translation=\"0 0 0\">\n",
              "          <shape>\n",
              "            <appearance>\n",
              "              <material diffuseColor=\"0 0 0\"/>\n",
              "            </appearance>\n",
              "            <lineset vertexCount=\"5\">\n",
              "              <coordinate point=\"0 0 0 0.0 0.0 0.0 0.0 0.0 0.0 0.0 0.0 0.0 0 0 0\"/>\n",
              "            </lineset>\n",
              "          </shape>\n",
              "        </transform>\n",
              "        <transform translation=\"0.0 0.0 0.0\">\n",
              "          <shape>\n",
              "            <appearance>\n",
              "              <material diffuseColor=\"0 0 0\"/>\n",
              "            </appearance>\n",
              "            <lineset vertexCount=\"5\">\n",
              "              <coordinate point=\"0 0 0 0.0 0.0 0.0 0.0 0.0 0.0 0.0 0.0 0.0 0 0 0\"/>\n",
              "            </lineset>\n",
              "          </shape>\n",
              "        </transform>\n",
              "      </group>\n",
              "      <group>\n",
              "        <transform translation=\"1.2396089780628035 -0.8274311082821739 0.08719781986895885\">\n",
              "          <shape>\n",
              "            <appearance>\n",
              "              <material diffuseColor=\"0.565 0.565 0.565\"/>\n",
              "            </appearance>\n",
              "            <sphere radius=\"0.76\"/>\n",
              "          </shape>\n",
              "        </transform>\n",
              "        <transform translation=\"1.2831568781467657 0.663915658306993 -0.2960945861262709\">\n",
              "          <shape>\n",
              "            <appearance>\n",
              "              <material diffuseColor=\"0.565 0.565 0.565\"/>\n",
              "            </appearance>\n",
              "            <sphere radius=\"0.76\"/>\n",
              "          </shape>\n",
              "        </transform>\n",
              "        <transform translation=\"-0.04475527204657936 -1.5116871685867999 -0.3961143010691622\">\n",
              "          <shape>\n",
              "            <appearance>\n",
              "              <material diffuseColor=\"0.565 0.565 0.565\"/>\n",
              "            </appearance>\n",
              "            <sphere radius=\"0.76\"/>\n",
              "          </shape>\n",
              "        </transform>\n",
              "        <transform translation=\"0.03253117727205416 1.1031658582065795 -1.0683108990066699\">\n",
              "          <shape>\n",
              "            <appearance>\n",
              "              <material diffuseColor=\"0.565 0.565 0.565\"/>\n",
              "            </appearance>\n",
              "            <sphere radius=\"0.76\"/>\n",
              "          </shape>\n",
              "        </transform>\n",
              "        <transform translation=\"-1.2863116239702799 -0.7526755968655091 0.08756455919866511\">\n",
              "          <shape>\n",
              "            <appearance>\n",
              "              <material diffuseColor=\"0.565 0.565 0.565\"/>\n",
              "            </appearance>\n",
              "            <sphere radius=\"0.76\"/>\n",
              "          </shape>\n",
              "        </transform>\n",
              "        <transform translation=\"-1.2418836558271658 0.7385413787947405 -0.2961350453881608\">\n",
              "          <shape>\n",
              "            <appearance>\n",
              "              <material diffuseColor=\"0.565 0.565 0.565\"/>\n",
              "            </appearance>\n",
              "            <sphere radius=\"0.76\"/>\n",
              "          </shape>\n",
              "        </transform>\n",
              "        <transform translation=\"1.320549405478824 -0.9311240376311825 1.1853437812729903\">\n",
              "          <shape>\n",
              "            <appearance>\n",
              "              <material diffuseColor=\"1.0 1.0 1.0\"/>\n",
              "            </appearance>\n",
              "            <sphere radius=\"0.31\"/>\n",
              "          </shape>\n",
              "        </transform>\n",
              "        <transform translation=\"2.117187780207893 -1.3506796362264586 -0.3333070714465002\">\n",
              "          <shape>\n",
              "            <appearance>\n",
              "              <material diffuseColor=\"1.0 1.0 1.0\"/>\n",
              "            </appearance>\n",
              "            <sphere radius=\"0.31\"/>\n",
              "          </shape>\n",
              "        </transform>\n",
              "        <transform translation=\"1.384038061538464 1.280527410708702 0.6164636718300337\">\n",
              "          <shape>\n",
              "            <appearance>\n",
              "              <material diffuseColor=\"1.0 1.0 1.0\"/>\n",
              "            </appearance>\n",
              "            <sphere radius=\"0.31\"/>\n",
              "          </shape>\n",
              "        </transform>\n",
              "        <transform translation=\"2.1839610123958253 0.872816212620119 -0.9008915785518472\">\n",
              "          <shape>\n",
              "            <appearance>\n",
              "              <material diffuseColor=\"1.0 1.0 1.0\"/>\n",
              "            </appearance>\n",
              "            <sphere radius=\"0.31\"/>\n",
              "          </shape>\n",
              "        </transform>\n",
              "        <transform translation=\"-0.04682049604730427 -1.575629042990322 -1.5000047086702581\">\n",
              "          <shape>\n",
              "            <appearance>\n",
              "              <material diffuseColor=\"1.0 1.0 1.0\"/>\n",
              "            </appearance>\n",
              "            <sphere radius=\"0.31\"/>\n",
              "          </shape>\n",
              "        </transform>\n",
              "        <transform translation=\"-0.07556344641971463 -2.554189178601842 -0.03455568145202129\">\n",
              "          <shape>\n",
              "            <appearance>\n",
              "              <material diffuseColor=\"1.0 1.0 1.0\"/>\n",
              "            </appearance>\n",
              "            <sphere radius=\"0.31\"/>\n",
              "          </shape>\n",
              "        </transform>\n",
              "        <transform translation=\"0.01860945982357815 0.6312856545507775 -2.068903911805584\">\n",
              "          <shape>\n",
              "            <appearance>\n",
              "              <material diffuseColor=\"1.0 1.0 1.0\"/>\n",
              "            </appearance>\n",
              "            <sphere radius=\"0.31\"/>\n",
              "          </shape>\n",
              "        </transform>\n",
              "        <transform translation=\"0.06477128324013652 2.193731827623742 -1.250268932201039\">\n",
              "          <shape>\n",
              "            <appearance>\n",
              "              <material diffuseColor=\"1.0 1.0 1.0\"/>\n",
              "            </appearance>\n",
              "            <sphere radius=\"0.31\"/>\n",
              "          </shape>\n",
              "        </transform>\n",
              "        <transform translation=\"-2.193513280005298 -1.22320640017562 -0.3322896670554021\">\n",
              "          <shape>\n",
              "            <appearance>\n",
              "              <material diffuseColor=\"1.0 1.0 1.0\"/>\n",
              "            </appearance>\n",
              "            <sphere radius=\"0.31\"/>\n",
              "          </shape>\n",
              "        </transform>\n",
              "        <transform translation=\"-1.372663148454804 -0.8511199669091388 1.1857725664382932\">\n",
              "          <shape>\n",
              "            <appearance>\n",
              "              <material diffuseColor=\"1.0 1.0 1.0\"/>\n",
              "            </appearance>\n",
              "            <sphere radius=\"0.31\"/>\n",
              "          </shape>\n",
              "        </transform>\n",
              "        <transform translation=\"-2.128830705123828 0.9999840546178472 -0.9009366812795224\">\n",
              "          <shape>\n",
              "            <appearance>\n",
              "              <material diffuseColor=\"1.0 1.0 1.0\"/>\n",
              "            </appearance>\n",
              "            <sphere radius=\"0.31\"/>\n",
              "          </shape>\n",
              "        </transform>\n",
              "        <transform translation=\"-1.3062835875641678 1.360262322499902 0.6162620955866961\">\n",
              "          <shape>\n",
              "            <appearance>\n",
              "              <material diffuseColor=\"1.0 1.0 1.0\"/>\n",
              "            </appearance>\n",
              "            <sphere radius=\"0.31\"/>\n",
              "          </shape>\n",
              "        </transform>\n",
              "      </group>\n",
              "    </group>\n",
              "  </transform>\n",
              "</scene>\n",
              "<!--End of Inserted Scene-->\n",
              "\n",
              "        </X3D>\n",
              "    </body>\n",
              "</html>\n",
              "\n"
            ],
            "text/plain": [
              "<IPython.core.display.HTML object>"
            ]
          },
          "execution_count": 19,
          "metadata": {},
          "output_type": "execute_result"
        }
      ],
      "source": [
        "view_x3d(boat_atoms)"
      ]
    },
    {
      "cell_type": "markdown",
      "id": "b44b6550-affe-48e6-b990-3bb15ba3251f",
      "metadata": {
        "id": "b44b6550-affe-48e6-b990-3bb15ba3251f"
      },
      "source": [
        "Also, compare the energy difference between them.\n",
        "\n",
        "The unit of energy is eV, but you can use the `units` module to convert units.\n",
        "\n",
        " - https://wiki.fysik.dtu.dk/ase/ase/units.html"
      ]
    },
    {
      "cell_type": "code",
      "execution_count": null,
      "id": "25aafa11-bef1-4795-8257-49b8ee0ec02f",
      "metadata": {
        "colab": {
          "base_uri": "https://localhost:8080/"
        },
        "id": "25aafa11-bef1-4795-8257-49b8ee0ec02f",
        "outputId": "7f390b5d-182b-42b9-f700-ce05a0a50cc4",
        "tags": []
      },
      "outputs": [
        {
          "name": "stdout",
          "output_type": "stream",
          "text": [
            "E_chair -1.18 eV\n",
            "E_boat  -1.02 eV\n",
            "E_diff  0.17 eV = 16.12 kJ/mol\n"
          ]
        }
      ],
      "source": [
        "from ase.units import Bohr,Rydberg,kJ,kB,fs,Hartree,mol,kcal\n",
        "\n",
        "E_chair = chair_atoms.get_potential_energy()\n",
        "E_boat = boat_atoms.get_potential_energy()\n",
        "\n",
        "E_diff = E_boat - E_chair\n",
        "\n",
        "print(f\"E_chair {E_chair:.2f} eV\")\n",
        "print(f\"E_boat  {E_boat:.2f} eV\")\n",
        "print(f\"E_diff  {E_diff:.2f} eV = {E_diff / (kJ/mol):.2f} kJ/mol\")"
      ]
    },
    {
      "cell_type": "markdown",
      "id": "f1b06cae-f7bb-40ec-86b9-95f612aea346",
      "metadata": {
        "id": "f1b06cae-f7bb-40ec-86b9-95f612aea346"
      },
      "source": [
        "The chair shape was found to be lower energy and more stable than the boat shape. <br/>\n",
        "The energy difference was also close to the 25 kJ/mol value shown in the figure above.\n",
        "\n",
        "Thus, in structural optimization, the initial structure is important to find the local stability point. <br/>\n",
        "Even for the same cyclohexane, the results after structural optimization will differ depending on how the initial structure is prepared."
      ]
    },
    {
      "cell_type": "markdown",
      "id": "b531230b-1fea-4a91-921f-8ba55dea7102",
      "metadata": {
        "id": "b531230b-1fea-4a91-921f-8ba55dea7102"
      },
      "source": [
        "### 2. Lattice constant optimization of Cu crystal\n",
        "\n",
        "Next, let's find this lattice constant efficiently by using a structural optimization algorithm.\n",
        "When optimizing a bulk with a periodic structure, the method differs depending on whether we are optimizing only the atomic coordinates or **including the cell size**. <br/>\n",
        "If you want to optimize the cell as well, you need to apply the following Filter class to the ASE atoms.\n",
        "\n",
        "**Table: Optimization target and Filter to be used**\n",
        "\n",
        "|  Position  | Cell | Filter |\n",
        "| ---- | ---- | ---- |\n",
        "|  ✓  |    | No filter (Default behavior) |\n",
        "|    |  ✓  | `StrainFilter` |\n",
        "|  ✓  |  ✓  | `ExpCellFilter` or `UnitCellFilter` |\n",
        "\n",
        "1. Fix atomic coordinates, opt only cell --> `StrainFilter`\n",
        "2. Fix cell, opt only atomic coordinates --> No Filter\n",
        "3. Opt both atomic coordinates and cell  --> `ExpCellFilter`\n"
      ]
    },
    {
      "cell_type": "markdown",
      "id": "b9aa7b25-b675-4768-926c-34e51e46fec3",
      "metadata": {
        "id": "b9aa7b25-b675-4768-926c-34e51e46fec3"
      },
      "source": [
        "Here is an example of using `StrainFilter`.\n",
        "\n",
        "We will optimize the lattice constants of the BCC and FCC structures of Cu atoms. <br/>\n",
        "Since the BCC and FCC structures contain only one atom in the primitive cell, optimizing the atomic coordinates is not necessary, and it is sufficient to optimize only the lattice constants.\n",
        "So `StrainFilter` is appropriate."
      ]
    },
    {
      "cell_type": "code",
      "execution_count": null,
      "id": "5092254f-f680-441f-8a55-356a51c71951",
      "metadata": {
        "colab": {
          "base_uri": "https://localhost:8080/"
        },
        "id": "5092254f-f680-441f-8a55-356a51c71951",
        "outputId": "8aab5e62-5f5c-4f2e-8bae-c8d9b1d1b808",
        "tags": []
      },
      "outputs": [
        {
          "name": "stdout",
          "output_type": "stream",
          "text": [
            "Before opt: Cell([[-1.5, 1.5, 1.5], [1.5, -1.5, 1.5], [1.5, 1.5, -1.5]])\n",
            "       Step     Time          Energy          fmax\n",
            "LBFGS:    0 02:41:12        0.119060        2.058740\n",
            "LBFGS:    1 02:41:12        0.067118        1.429361\n",
            "LBFGS:    2 02:41:12        0.028270        0.394816\n",
            "LBFGS:    3 02:41:12        0.025685        0.051170\n",
            "LBFGS:    4 02:41:12        0.025639        0.001519\n"
          ]
        },
        {
          "data": {
            "text/plain": [
              "True"
            ]
          },
          "execution_count": 21,
          "metadata": {},
          "output_type": "execute_result"
        }
      ],
      "source": [
        "from ase.filters import StrainFilter\n",
        "from ase.build import bulk\n",
        "from ase.calculators.emt import EMT\n",
        "\n",
        "cu_bcc_atoms = bulk(\"Cu\", \"bcc\", a=3.0)\n",
        "print(\"Before opt:\", cu_bcc_atoms.cell)\n",
        "cu_bcc_atoms.calc = EMT()\n",
        "\n",
        "cu_bcc_atoms = StrainFilter(cu_bcc_atoms)\n",
        "opt = LBFGS(cu_bcc_atoms, trajectory=\"output/lbfgs_cu_bcc.traj\")\n",
        "opt.run()"
      ]
    },
    {
      "cell_type": "code",
      "execution_count": null,
      "id": "a41ac849-8c77-4a7b-b08b-b0247e348dfc",
      "metadata": {
        "colab": {
          "base_uri": "https://localhost:8080/"
        },
        "id": "a41ac849-8c77-4a7b-b08b-b0247e348dfc",
        "outputId": "36db6d3c-baa7-4de5-b4c5-0cc2171e2127",
        "tags": []
      },
      "outputs": [
        {
          "name": "stdout",
          "output_type": "stream",
          "text": [
            "Before opt: Cell([[0.0, 1.5, 1.5], [1.5, 0.0, 1.5], [1.5, 1.5, 0.0]])\n",
            "       Step     Time          Energy          fmax\n",
            "LBFGS:    0 02:41:12        1.998666       15.035556\n",
            "LBFGS:    1 02:41:13        0.238493        4.341885\n",
            "LBFGS:    2 02:41:13        0.032164        1.602629\n",
            "LBFGS:    3 02:41:13       -0.005589        0.294031\n",
            "LBFGS:    4 02:41:13       -0.007023        0.027962\n"
          ]
        },
        {
          "data": {
            "text/plain": [
              "True"
            ]
          },
          "execution_count": 22,
          "metadata": {},
          "output_type": "execute_result"
        }
      ],
      "source": [
        "cu_fcc_atoms = bulk(\"Cu\", \"fcc\", a=3.0)\n",
        "print(\"Before opt:\", cu_fcc_atoms.cell)\n",
        "cu_fcc_atoms.calc = EMT()\n",
        "\n",
        "cu_fcc_atoms = StrainFilter(cu_fcc_atoms)\n",
        "opt = LBFGS(cu_fcc_atoms, trajectory=\"output/lbfgs_cu_fcc.traj\")\n",
        "opt.run()"
      ]
    },
    {
      "cell_type": "code",
      "execution_count": null,
      "id": "9ba49ef6-0edf-4c18-a951-8199ea5fbd06",
      "metadata": {
        "colab": {
          "base_uri": "https://localhost:8080/"
        },
        "id": "9ba49ef6-0edf-4c18-a951-8199ea5fbd06",
        "outputId": "084a6fca-dc34-47bc-e6db-704582b73f1d",
        "tags": []
      },
      "outputs": [
        {
          "data": {
            "text/plain": [
              "Cell([[-1.4277682077389566, 1.4277682077389569, 1.4277682077389566], [1.4277682077389566, -1.4277682077389569, 1.4277682077389566], [1.4277682077389566, 1.4277682077389569, -1.4277682077389566]])"
            ]
          },
          "execution_count": 23,
          "metadata": {},
          "output_type": "execute_result"
        }
      ],
      "source": [
        "cu_bcc_atoms.atoms.cell"
      ]
    },
    {
      "cell_type": "code",
      "execution_count": null,
      "id": "fa16c6a9-6067-4d80-8cd4-cb2d20573ac6",
      "metadata": {
        "colab": {
          "base_uri": "https://localhost:8080/"
        },
        "id": "fa16c6a9-6067-4d80-8cd4-cb2d20573ac6",
        "outputId": "84612f26-2673-4203-9760-76dfc60e286e",
        "tags": []
      },
      "outputs": [
        {
          "data": {
            "text/plain": [
              "Cell([[9.599646914998983e-17, 1.7939198768932187, 1.793919876893219], [1.7939198768932187, 6.90071281845051e-17, 1.793919876893219], [1.7939198768932187, 1.7939198768932187, 8.141128784294879e-17]])"
            ]
          },
          "execution_count": 24,
          "metadata": {},
          "output_type": "execute_result"
        }
      ],
      "source": [
        "cu_fcc_atoms.atoms.cell"
      ]
    },
    {
      "cell_type": "markdown",
      "id": "072ffbea-09e7-4455-9b19-adc8ba13c372",
      "metadata": {
        "id": "072ffbea-09e7-4455-9b19-adc8ba13c372"
      },
      "source": [
        "When optimizing the lattice constants using `StrainFilter`, the values of the a, b, and c axes are slightly different because of the lack of consideration for the symmetry of the crystal. <br/>\n",
        "(In fact, it is possible to optimize while preserving the symmetry by using `ExpCellFilter` or `FixSymmetry` as described below.)\n",
        "\n",
        "Here we will take the average value to calculate the final lattice constant. <br/>\n",
        "For the argument `a` to the `bulk` method of ASE, the cells of the BCC structure are\n",
        "\n",
        "```\n",
        "[[-a/2, a/2, a/2],\n",
        " [a/2, -a/2, a/2],\n",
        " [a/2, a/2, -a/2]]\n",
        "```\n",
        "\n",
        "The cells of the FCC structure are\n",
        "\n",
        "```\n",
        "[[0, a/2, a/2],\n",
        " [a/2, 0, a/2],\n",
        " [a/2, a/2, 0]]\n",
        "```\n",
        "\n",
        "The following calculation is performed using this fact."
      ]
    },
    {
      "cell_type": "code",
      "execution_count": null,
      "id": "0cdc653b-5b0a-4908-ab59-571344d82afd",
      "metadata": {
        "colab": {
          "base_uri": "https://localhost:8080/"
        },
        "id": "0cdc653b-5b0a-4908-ab59-571344d82afd",
        "outputId": "64f41327-f535-4500-a1fc-67e3eb90c1e4",
        "tags": []
      },
      "outputs": [
        {
          "name": "stdout",
          "output_type": "stream",
          "text": [
            "BCC opt: a = 2.86 A, E = 0.03 eV\n",
            "FCC opt: a = 3.59 A, E = -0.01 eV\n"
          ]
        }
      ],
      "source": [
        "a = np.abs(cu_bcc_atoms.atoms.cell).mean() * 2\n",
        "E_pot = cu_bcc_atoms.get_potential_energy()\n",
        "print(f\"BCC opt: a = {a:.2f} A, E = {E_pot:.2f} eV\")\n",
        "\n",
        "a = cu_fcc_atoms.atoms.cell.sum() / 3\n",
        "E_pot = cu_fcc_atoms.get_potential_energy()\n",
        "print(f\"FCC opt: a = {a:.2f} A, E = {E_pot:.2f} eV\")"
      ]
    },
    {
      "cell_type": "markdown",
      "id": "2c6e9cf3-207f-4a97-9af3-c2bebdce7dbe",
      "metadata": {
        "id": "2c6e9cf3-207f-4a97-9af3-c2bebdce7dbe"
      },
      "source": [
        "As a result of structural optimization, we found that the FCC structure has the minimum energy at `a=3.59` A.\n",
        "\n",
        "We also found that **Cu is more stable in the FCC structure than in the BCC structure**, which is consistent with experimental results."
      ]
    },
    {
      "cell_type": "markdown",
      "id": "f1041e2f-e1b3-44a5-8cc4-2bc0d20e3fec",
      "metadata": {
        "id": "f1041e2f-e1b3-44a5-8cc4-2bc0d20e3fec"
      },
      "source": [
        "One caveat to using `StrainFilter` is that the a, b, and c axes of a cell are optimized independently, so even if you want to keep that ratio, it may not be preserved."
      ]
    },
    {
      "cell_type": "markdown",
      "id": "764f09e6-d3c4-4b16-8f2d-9108b3a24957",
      "metadata": {
        "id": "764f09e6-d3c4-4b16-8f2d-9108b3a24957"
      },
      "source": [
        "**[Note] Structural optimization is required every time Calculator (potential energy) changes**\n",
        "\n",
        "You might think that the structure of the Materials project is already a perfectly stable structure, since it is also a structure that has undergone structural optimization.\n",
        "However, the exact local point (the structure that takes the lowest energy) is different when the potential energy changes."
      ]
    },
    {
      "cell_type": "markdown",
      "id": "6d0c3bf7-030a-45f7-b17d-d4c7b86770d6",
      "metadata": {
        "id": "6d0c3bf7-030a-45f7-b17d-d4c7b86770d6"
      },
      "source": [
        "## [Column] Structural optimization and the real world\n",
        "\n",
        "The structural optimization calculations presented in this chapter are the foundation for almost all the atomistic simulations introduced later. However, the computational methods used inside the structural optimization are somewhat technical, and those new to atomistic simulations through this tutorial may not intuitively understand the necessity of such calculations. Therefore, in this column, we will review structural optimization calculations from the viewpoint of their correspondence with the real world.\n",
        "\n",
        "### Need for structural optimization\n",
        "\n",
        "Considering how the atomic arrangement of material in the real world is determined, each atom is free to move around without any particular constraints, so excess energy is dissipated and transformed into a stable structure with low energy.\n",
        "Once we consider the case where the temperature is sufficiently low, ignoring the effect of temperature, in that case, the kinetic energy of the atoms will be zero, and the potential energy will be minimal.\n",
        "In this sense, structural optimization calculations correspond to absolute zero temperature conditions in the real world.\n",
        "\n",
        "What about the case of finite temperature?\n",
        "From the theory of statistical mechanics, it is known that temperature and kinetic energy have a constant relationship in a system in equilibrium. A rough calculation shows that a 1 K rise corresponds roughly to a 1/10000 eV/atom increase in kinetic energy.\n",
        "Conversely, an increase in energy of 1 eV/atom corresponds to a structure of about 10000 K in terms of temperature.\n",
        "Thus, even at finite temperatures, an energy-optimized structure is often a good enough approximation, so it is common practice to start the simulation with a structural optimization calculation (and then increase the temperature for finite temperatures).\n",
        "\n",
        "Simulations without structural optimization may lead to unrealistic results due to differences in assumptions.\n",
        "For example, if the cell size of the iron crystal structure is reduced by 1%, you may not notice any particular change if you only visualize the atomic structure.\n",
        "However, as can be seen by considering the operation of shrinking iron by 1% in the real world, this corresponds to iron under high compressive force (specifically, pressure in excess of 1 GPa), which can change the results of the simulation.\n",
        "\n",
        "### Structural optimization methods and real world structural relaxation\n",
        "\n",
        "Let us consider why there are several structural optimization methods by their correspondence to the real world. What happens when the material at an appropriately high temperature, like molten iron, is cooled slightly by removing heat? The iron atoms constantly vibrate due to the heat, taking on various atomic configurations and gradually transitioning to a structure with lower potential energy. Eventually, they transition to a crystal structure with low energy, a well-ordered atomic arrangement. In this sense, structural optimization in the real world is considered [simulated annealing](https://en.wikipedia.org/wiki/Simulated_annealing)).\n",
        "(Historically, this corresponds to the original idea of annealing.)\n",
        "\n",
        "In simulated annealing, atoms are in motion for a long time at an elevated temperature. It means that, in principle, an atomistic simulation can yield the same stable structure as in the real world if a sufficiently long molecular dynamics calculation can be performed.\n",
        "\n",
        "The problem here, however, is the gap between the time scale of the MD simulation and reality.\n",
        "While atomic motion is typically a femtosecond ($10^{-15}$ s) order phenomenon, much longer time scales typically come into play when considering real-world materials.\n",
        "Therefore, real-world structures can be viewed as the result of extremely long-time structural optimization calculations on the scale of $10^{15}$ or even longer atomic scale simulations.\n",
        "It is also known that the annealing method is a highly robust optimization technique and can arrive at a more globally optimal solution by taking a sufficiently long time.\n",
        "Therefore, it is possible to consider that a material that exists, in reality, has obtained an atomic structure for which the global optimization problem has been virtually solved.\n",
        "\n",
        "Thus, methods that allow atomistic simulations to find more globally optimal solutions in a shorter time have been developed. This is generally a tradeoff against computational time and is used in different cases. Suppose the structure of interest is already known, such as a crystalline structure, and a sufficiently close structure can be taken as the initial structure. In that case, the BFGS-like method shown in the example above is the preferred method for finding the local optimum. Conversely, when the target structure is unknown, such as an amorphous structure, more attention is paid to finding a more globally optimal solution. (For more realistic results, melt-quench methods are used, for example, in which the temperature is slowly lowered.) This is why libraries of atomic simulations, including ASE, include a variety of optimal solution methods.\n",
        "As a side note, there are cases in the real world where the solution is not globally optimal. For example, diamond, a high-pressure phase of carbon, is not stable on earth, and graphite is the most stable allotrope. Because of the high energy required for structural change, the rate of structural change is extremely slow and is treated as a practically stable structure ([metastable state](https://en.wikipedia.org/wiki/Metastability)) on the human time scale.\n",
        "\n",
        "A famous example of active use in manufacturing is the quenching of iron. The technique of hardening heated iron by immersing it in water is well known in the forging of Japanese swords. The time required for structural relaxation is limited by rapidly quenching the temperature, and the transition to a stable structure is prevented. This treatment yields a metastable state with a more desirable strength.\n",
        "\n",
        "Thus, phenomena involving phase transformations and chemical changes often occur slowly, even on an everyday scale. This is true for atomistic simulations as well, and if one wants to look at phase transformations or chemical reactions, a more efficient computational approach may be used than simply performing long kinetic calculations. One specific example is the NEB method described in chapter 5."
      ]
    }
  ],
  "metadata": {
    "colab": {
      "provenance": []
    },
    "kernelspec": {
      "display_name": "1: Python 3.9",
      "language": "python",
      "name": "python39"
    },
    "language_info": {
      "codemirror_mode": {
        "name": "ipython",
        "version": 3
      },
      "file_extension": ".py",
      "mimetype": "text/x-python",
      "name": "python",
      "nbconvert_exporter": "python",
      "pygments_lexer": "ipython3",
      "version": "3.9.16"
    }
  },
  "nbformat": 4,
  "nbformat_minor": 5
}